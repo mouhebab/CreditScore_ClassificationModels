{
  "cells": [
    {
      "cell_type": "markdown",
      "id": "70a4a3af",
      "metadata": {
        "id": "70a4a3af"
      },
      "source": [
        "### Classification Models for Credit Scoring:\n",
        "\n",
        "Development and deployment of supervised models where the target is binary.\n",
        "\n",
        "The modeling table is already prepared and consists of:\n",
        "- ID: A unique identifier.\n",
        "- Explanatory variables: Features or independent variables.\n",
        "- Batches:  time-based batches.\n",
        "- Target: The response variable.\n"
      ]
    },
    {
      "cell_type": "markdown",
      "id": "6d59984c",
      "metadata": {
        "id": "6d59984c"
      },
      "source": [
        "#### Importing Required Libraries (Predifined in GCP for POD)"
      ]
    },
    {
      "cell_type": "code",
      "execution_count": null,
      "id": "885f383f",
      "metadata": {
        "id": "885f383f",
        "outputId": "1bcbd101-8ca8-4bf3-db8c-a247758ea4ff"
      },
      "outputs": [
        {
          "name": "stdout",
          "output_type": "stream",
          "text": [
            "-----------------------------------------------------------------------\n",
            "PoDPlatform Classification Functions Loaded Successfully\n",
            "Version: 1.0.3\n",
            "Date: 21/07/21\n",
            "Use HelpPodFunctions(fcn='functions') to check all functions available\n",
            "-----------------------------------------------------------------------\n"
          ]
        }
      ],
      "source": [
        "from PoDMLClassFunctions import *"
      ]
    },
    {
      "cell_type": "code",
      "execution_count": null,
      "id": "c98ce2fc",
      "metadata": {
        "id": "c98ce2fc",
        "outputId": "2c5685bc-0073-4ea3-f47e-2ea219ac48e0"
      },
      "outputs": [
        {
          "name": "stdout",
          "output_type": "stream",
          "text": [
            "-------- Available Functions for Classification Models --------\n",
            "PoDGetDatasets\n",
            "PoDHoldoutSample\n",
            "TuringTxEventVolumHist\n",
            "PoDReadCSVFromGS\n",
            "TuringOptimalBinning\n",
            "TuringGetCategNullBin\n",
            "TuringMissingPlot\n",
            "TuringCSPlotCategSafra\n",
            "TuringAgrupCategs\n",
            "TuringGetListVars\n",
            "TuringEventRateCategs\n",
            "TuringUserDefinedRefCategLogisticReg\n",
            "TuringLogisticRegression\n",
            "TuringGetDummies\n",
            "TuringDropVarsCoefRef\n",
            "TuringCSKS\n",
            "TuringCheckDummies\n",
            "TuringLogisticRegScoreCard\n",
            "TuringScorecardBetasRef\n",
            "TuringKsSafra\n",
            "TuringLinePlot\n",
            "PoDGetNumericalFeatures\n",
            "PoDGetCategoricalFeatures\n",
            "PoDGetHighCardFeatures\n",
            "PoDClassGini\n",
            "PoDConfigClassDataPrep\n",
            "PoDTrainingClassModels\n",
            "PoDDeployClassModels\n",
            "PoDScoringClassModelBatch\n",
            "PoDRegisterProjetc\n"
          ]
        }
      ],
      "source": [
        "HelpPodFunctions(fcn='functions')"
      ]
    },
    {
      "cell_type": "markdown",
      "id": "a3b4ce17",
      "metadata": {
        "id": "a3b4ce17"
      },
      "source": [
        "#### Reading Data from a CSV file stored in Google Storage"
      ]
    },
    {
      "cell_type": "code",
      "execution_count": null,
      "id": "2c697544",
      "metadata": {
        "id": "2c697544",
        "outputId": "5aedbade-ee54-47fd-d62a-2e427ac9ec16"
      },
      "outputs": [
        {
          "name": "stdout",
          "output_type": "stream",
          "text": [
            "Number of rows:  100000\n",
            "Number of variables:  18\n"
          ]
        }
      ],
      "source": [
        "abt00 = PoDReadCSVFromGS('gs://pod-artifacts-poc-br-dev/data/PoD_Platform_Binning_001.csv')"
      ]
    },
    {
      "cell_type": "code",
      "execution_count": null,
      "id": "4861dc35-bf91-486a-9880-e906296d8bd0",
      "metadata": {
        "id": "4861dc35-bf91-486a-9880-e906296d8bd0",
        "outputId": "78a87f75-b964-4448-a18d-4f2d1cf4f8ec"
      },
      "outputs": [
        {
          "data": {
            "text/plain": [
              "(5000, 18)"
            ]
          },
          "execution_count": 44,
          "metadata": {},
          "output_type": "execute_result"
        }
      ],
      "source": [
        "abt00 = abt00.sample(n=5000)\n",
        "abt00.shape"
      ]
    },
    {
      "cell_type": "code",
      "execution_count": null,
      "id": "efda8422",
      "metadata": {
        "id": "efda8422",
        "outputId": "620f8c19-b4d5-43d1-f86b-f2dc5cc91e42"
      },
      "outputs": [
        {
          "data": {
            "text/html": [
              "<div>\n",
              "<style scoped>\n",
              "    .dataframe tbody tr th:only-of-type {\n",
              "        vertical-align: middle;\n",
              "    }\n",
              "\n",
              "    .dataframe tbody tr th {\n",
              "        vertical-align: top;\n",
              "    }\n",
              "\n",
              "    .dataframe thead th {\n",
              "        text-align: right;\n",
              "    }\n",
              "</style>\n",
              "<table border=\"1\" class=\"dataframe\">\n",
              "  <thead>\n",
              "    <tr style=\"text-align: right;\">\n",
              "      <th></th>\n",
              "      <th>VAR_1</th>\n",
              "      <th>VAR_2</th>\n",
              "      <th>VAR_3</th>\n",
              "      <th>VAR_4</th>\n",
              "      <th>VAR_5</th>\n",
              "      <th>VAR_6</th>\n",
              "      <th>VAR_7</th>\n",
              "      <th>VAR_8</th>\n",
              "      <th>VAR_9</th>\n",
              "      <th>VAR_10</th>\n",
              "      <th>VAR_11</th>\n",
              "      <th>VAR_12</th>\n",
              "      <th>VAR_13</th>\n",
              "      <th>VAR_14</th>\n",
              "      <th>VAR_15</th>\n",
              "      <th>TARGET_60_6</th>\n",
              "      <th>PK_ID</th>\n",
              "      <th>PK_DATREF</th>\n",
              "    </tr>\n",
              "  </thead>\n",
              "  <tbody>\n",
              "    <tr>\n",
              "      <th>71751</th>\n",
              "      <td>443.93</td>\n",
              "      <td>1.0</td>\n",
              "      <td>443.93</td>\n",
              "      <td>1.000000</td>\n",
              "      <td>1.000000</td>\n",
              "      <td>12</td>\n",
              "      <td>122.50</td>\n",
              "      <td>1.000000</td>\n",
              "      <td>1.000000</td>\n",
              "      <td>0</td>\n",
              "      <td>1.000000</td>\n",
              "      <td>99999.0</td>\n",
              "      <td>NaN</td>\n",
              "      <td>1.000000</td>\n",
              "      <td>6.0</td>\n",
              "      <td>0</td>\n",
              "      <td>1340591</td>\n",
              "      <td>202001</td>\n",
              "    </tr>\n",
              "    <tr>\n",
              "      <th>80493</th>\n",
              "      <td>350.00</td>\n",
              "      <td>0.0</td>\n",
              "      <td>382.86</td>\n",
              "      <td>0.496861</td>\n",
              "      <td>0.500000</td>\n",
              "      <td>12</td>\n",
              "      <td>481.23</td>\n",
              "      <td>0.215275</td>\n",
              "      <td>0.333333</td>\n",
              "      <td>0</td>\n",
              "      <td>0.215275</td>\n",
              "      <td>0.5</td>\n",
              "      <td>2.0</td>\n",
              "      <td>0.500000</td>\n",
              "      <td>11.0</td>\n",
              "      <td>0</td>\n",
              "      <td>14174107</td>\n",
              "      <td>201903</td>\n",
              "    </tr>\n",
              "    <tr>\n",
              "      <th>2655</th>\n",
              "      <td>453.15</td>\n",
              "      <td>1.0</td>\n",
              "      <td>453.15</td>\n",
              "      <td>1.000000</td>\n",
              "      <td>0.833333</td>\n",
              "      <td>12</td>\n",
              "      <td>599.92</td>\n",
              "      <td>0.368344</td>\n",
              "      <td>0.833333</td>\n",
              "      <td>0</td>\n",
              "      <td>0.362113</td>\n",
              "      <td>99998.0</td>\n",
              "      <td>2.0</td>\n",
              "      <td>0.833333</td>\n",
              "      <td>0.0</td>\n",
              "      <td>0</td>\n",
              "      <td>2698161</td>\n",
              "      <td>201911</td>\n",
              "    </tr>\n",
              "    <tr>\n",
              "      <th>53233</th>\n",
              "      <td>821.14</td>\n",
              "      <td>1.0</td>\n",
              "      <td>821.14</td>\n",
              "      <td>1.000000</td>\n",
              "      <td>0.833333</td>\n",
              "      <td>12</td>\n",
              "      <td>232.56</td>\n",
              "      <td>0.374491</td>\n",
              "      <td>0.833333</td>\n",
              "      <td>0</td>\n",
              "      <td>0.374490</td>\n",
              "      <td>99999.0</td>\n",
              "      <td>NaN</td>\n",
              "      <td>0.833333</td>\n",
              "      <td>12.0</td>\n",
              "      <td>0</td>\n",
              "      <td>31414666</td>\n",
              "      <td>201912</td>\n",
              "    </tr>\n",
              "    <tr>\n",
              "      <th>91141</th>\n",
              "      <td>1389.39</td>\n",
              "      <td>1.0</td>\n",
              "      <td>1389.39</td>\n",
              "      <td>1.000000</td>\n",
              "      <td>1.000000</td>\n",
              "      <td>4</td>\n",
              "      <td>1991.57</td>\n",
              "      <td>1.000000</td>\n",
              "      <td>1.000000</td>\n",
              "      <td>0</td>\n",
              "      <td>1.000000</td>\n",
              "      <td>99998.0</td>\n",
              "      <td>9.0</td>\n",
              "      <td>0.333333</td>\n",
              "      <td>0.0</td>\n",
              "      <td>0</td>\n",
              "      <td>35120410</td>\n",
              "      <td>201910</td>\n",
              "    </tr>\n",
              "  </tbody>\n",
              "</table>\n",
              "</div>"
            ],
            "text/plain": [
              "         VAR_1  VAR_2    VAR_3     VAR_4     VAR_5  VAR_6    VAR_7     VAR_8  \\\n",
              "71751   443.93    1.0   443.93  1.000000  1.000000     12   122.50  1.000000   \n",
              "80493   350.00    0.0   382.86  0.496861  0.500000     12   481.23  0.215275   \n",
              "2655    453.15    1.0   453.15  1.000000  0.833333     12   599.92  0.368344   \n",
              "53233   821.14    1.0   821.14  1.000000  0.833333     12   232.56  0.374491   \n",
              "91141  1389.39    1.0  1389.39  1.000000  1.000000      4  1991.57  1.000000   \n",
              "\n",
              "          VAR_9  VAR_10    VAR_11   VAR_12  VAR_13    VAR_14  VAR_15  \\\n",
              "71751  1.000000       0  1.000000  99999.0     NaN  1.000000     6.0   \n",
              "80493  0.333333       0  0.215275      0.5     2.0  0.500000    11.0   \n",
              "2655   0.833333       0  0.362113  99998.0     2.0  0.833333     0.0   \n",
              "53233  0.833333       0  0.374490  99999.0     NaN  0.833333    12.0   \n",
              "91141  1.000000       0  1.000000  99998.0     9.0  0.333333     0.0   \n",
              "\n",
              "       TARGET_60_6     PK_ID  PK_DATREF  \n",
              "71751            0   1340591     202001  \n",
              "80493            0  14174107     201903  \n",
              "2655             0   2698161     201911  \n",
              "53233            0  31414666     201912  \n",
              "91141            0  35120410     201910  "
            ]
          },
          "execution_count": 45,
          "metadata": {},
          "output_type": "execute_result"
        }
      ],
      "source": [
        "abt00.head()"
      ]
    },
    {
      "cell_type": "markdown",
      "id": "7666160e",
      "metadata": {
        "id": "7666160e"
      },
      "source": [
        "#### Checking the event rate by BATCH\n"
      ]
    },
    {
      "cell_type": "code",
      "execution_count": null,
      "id": "eb67b660",
      "metadata": {
        "id": "eb67b660",
        "outputId": "af801b84-b276-44d4-bd1f-38f8fe208c2b"
      },
      "outputs": [
        {
          "data": {
            "image/png": "[encoded data removed]",
            "text/plain": [
              "<Figure size 1440x432 with 2 Axes>"
            ]
          },
          "metadata": {},
          "output_type": "display_data"
        }
      ],
      "source": [
        "stasafrat = TuringTxEventVolumHist(abt00,'TARGET_60_6','PK_DATREF')"
      ]
    },
    {
      "cell_type": "markdown",
      "id": "bdcc744d-716a-4920-aea2-d4c49c7ea582",
      "metadata": {
        "id": "bdcc744d-716a-4920-aea2-d4c49c7ea582"
      },
      "source": [
        "#### Defining project parameters"
      ]
    },
    {
      "cell_type": "code",
      "execution_count": null,
      "id": "f9505794",
      "metadata": {
        "id": "f9505794"
      },
      "outputs": [],
      "source": [
        "#### Definindo parâmetros do projeto\n",
        "project_name = 'CreditScore_v001'\n",
        "modelname = 'CREDIT_SCORE_002'\n",
        "model_description = \"Modelo para crédito - teste\"\n",
        "idmodels = ['lightgbm','xgboost','gbc','lr','rf']\n",
        "sort='Gini'\n",
        "targetname = 'TARGET_60_6'\n",
        "idlist = ['PK_ID']\n",
        "ignore_variables = []\n",
        "bin_numeric_features = None\n",
        "optimize = 'AUC'\n",
        "train_size = 0.7\n",
        "kfold = 5\n",
        "njobs = 10\n",
        "normalize = True\n",
        "normalize_method = 'zscore' #available: zscore minmax maxabs robust\n",
        "ignore_low_variance = True\n",
        "combine_rare_levels =  True\n",
        "remove_outliers = True\n",
        "outliers_threshold = 0.05\n",
        "remove_multicollinearity =  True\n",
        "multicollinearity_threshold = 0.9\n",
        "remove_perfect_collinearity = True\n",
        "find_subpops = False\n",
        "polynomial_features = False\n",
        "polynomial_degree = 2\n",
        "feature_selection = True\n",
        "feature_selection_threshold = 0.1\n",
        "feature_interaction = False\n",
        "feature_ratio = False\n",
        "interaction_threshold = 0.01\n",
        "fix_imbalance = False\n",
        "enable_high_card_feat = False\n",
        "card_threshold = 20\n",
        "seedproj = 12345"
      ]
    },
    {
      "cell_type": "markdown",
      "id": "569cbdad",
      "metadata": {
        "id": "569cbdad"
      },
      "source": [
        "#### Using cross-validation by Hold-Out with 70% reserved for training and 30% for testing"
      ]
    },
    {
      "cell_type": "code",
      "execution_count": null,
      "id": "cfb3d5d9",
      "metadata": {
        "id": "cfb3d5d9",
        "outputId": "2daaeccb-9585-46d1-8626-4724679c8fd9"
      },
      "outputs": [
        {
          "name": "stdout",
          "output_type": "stream",
          "text": [
            "Data for Modeling: (3500, 18)\n",
            "Unseen Data For Predictions (Validation/Test): (1500, 18)\n"
          ]
        }
      ],
      "source": [
        "train, test = PoDHoldoutSample(abt00,train_frac=0.7,seed=seedproj)"
      ]
    },
    {
      "cell_type": "code",
      "execution_count": null,
      "id": "f3478533",
      "metadata": {
        "id": "f3478533",
        "outputId": "8af2899c-5b12-417a-c005-d4a76ec7a0ff"
      },
      "outputs": [
        {
          "data": {
            "text/html": [
              "<div>\n",
              "<style scoped>\n",
              "    .dataframe tbody tr th:only-of-type {\n",
              "        vertical-align: middle;\n",
              "    }\n",
              "\n",
              "    .dataframe tbody tr th {\n",
              "        vertical-align: top;\n",
              "    }\n",
              "\n",
              "    .dataframe thead th {\n",
              "        text-align: right;\n",
              "    }\n",
              "</style>\n",
              "<table border=\"1\" class=\"dataframe\">\n",
              "  <thead>\n",
              "    <tr style=\"text-align: right;\">\n",
              "      <th></th>\n",
              "      <th>VAR_1</th>\n",
              "      <th>VAR_2</th>\n",
              "      <th>VAR_3</th>\n",
              "      <th>VAR_4</th>\n",
              "      <th>VAR_5</th>\n",
              "      <th>VAR_6</th>\n",
              "      <th>VAR_7</th>\n",
              "      <th>VAR_8</th>\n",
              "      <th>VAR_9</th>\n",
              "      <th>VAR_10</th>\n",
              "      <th>VAR_11</th>\n",
              "      <th>VAR_12</th>\n",
              "      <th>VAR_13</th>\n",
              "      <th>VAR_14</th>\n",
              "      <th>VAR_15</th>\n",
              "      <th>TARGET_60_6</th>\n",
              "      <th>PK_ID</th>\n",
              "      <th>PK_DATREF</th>\n",
              "    </tr>\n",
              "  </thead>\n",
              "  <tbody>\n",
              "    <tr>\n",
              "      <th>0</th>\n",
              "      <td>303.88</td>\n",
              "      <td>1.000000</td>\n",
              "      <td>303.88</td>\n",
              "      <td>1.000000</td>\n",
              "      <td>1.000000</td>\n",
              "      <td>8</td>\n",
              "      <td>244.32</td>\n",
              "      <td>1.000000</td>\n",
              "      <td>1.000000</td>\n",
              "      <td>0</td>\n",
              "      <td>1.000000</td>\n",
              "      <td>99998.0</td>\n",
              "      <td>3.0</td>\n",
              "      <td>0.666667</td>\n",
              "      <td>1.0</td>\n",
              "      <td>0</td>\n",
              "      <td>6833803</td>\n",
              "      <td>201911</td>\n",
              "    </tr>\n",
              "    <tr>\n",
              "      <th>1</th>\n",
              "      <td>54.00</td>\n",
              "      <td>1.000000</td>\n",
              "      <td>53.80</td>\n",
              "      <td>1.000000</td>\n",
              "      <td>1.000000</td>\n",
              "      <td>4</td>\n",
              "      <td>46.66</td>\n",
              "      <td>1.000000</td>\n",
              "      <td>1.000000</td>\n",
              "      <td>4</td>\n",
              "      <td>1.000000</td>\n",
              "      <td>99998.0</td>\n",
              "      <td>3.0</td>\n",
              "      <td>0.666667</td>\n",
              "      <td>0.0</td>\n",
              "      <td>0</td>\n",
              "      <td>9932682</td>\n",
              "      <td>201908</td>\n",
              "    </tr>\n",
              "    <tr>\n",
              "      <th>2</th>\n",
              "      <td>190.22</td>\n",
              "      <td>0.333333</td>\n",
              "      <td>860.91</td>\n",
              "      <td>0.220952</td>\n",
              "      <td>0.250000</td>\n",
              "      <td>12</td>\n",
              "      <td>1500.95</td>\n",
              "      <td>0.220952</td>\n",
              "      <td>0.333333</td>\n",
              "      <td>0</td>\n",
              "      <td>0.220952</td>\n",
              "      <td>99997.0</td>\n",
              "      <td>NaN</td>\n",
              "      <td>0.250000</td>\n",
              "      <td>2.0</td>\n",
              "      <td>1</td>\n",
              "      <td>4191107</td>\n",
              "      <td>201910</td>\n",
              "    </tr>\n",
              "    <tr>\n",
              "      <th>3</th>\n",
              "      <td>1014.82</td>\n",
              "      <td>1.000000</td>\n",
              "      <td>1014.82</td>\n",
              "      <td>1.000000</td>\n",
              "      <td>0.916667</td>\n",
              "      <td>12</td>\n",
              "      <td>3055.18</td>\n",
              "      <td>1.000000</td>\n",
              "      <td>1.000000</td>\n",
              "      <td>0</td>\n",
              "      <td>1.000000</td>\n",
              "      <td>99998.0</td>\n",
              "      <td>9.0</td>\n",
              "      <td>0.916667</td>\n",
              "      <td>2.0</td>\n",
              "      <td>0</td>\n",
              "      <td>2196319</td>\n",
              "      <td>201906</td>\n",
              "    </tr>\n",
              "    <tr>\n",
              "      <th>4</th>\n",
              "      <td>34.64</td>\n",
              "      <td>1.000000</td>\n",
              "      <td>34.64</td>\n",
              "      <td>1.000000</td>\n",
              "      <td>0.833333</td>\n",
              "      <td>12</td>\n",
              "      <td>0.00</td>\n",
              "      <td>1.000000</td>\n",
              "      <td>1.000000</td>\n",
              "      <td>0</td>\n",
              "      <td>0.127603</td>\n",
              "      <td>99999.0</td>\n",
              "      <td>NaN</td>\n",
              "      <td>0.833333</td>\n",
              "      <td>3.0</td>\n",
              "      <td>0</td>\n",
              "      <td>27335719</td>\n",
              "      <td>201901</td>\n",
              "    </tr>\n",
              "  </tbody>\n",
              "</table>\n",
              "</div>"
            ],
            "text/plain": [
              "     VAR_1     VAR_2    VAR_3     VAR_4     VAR_5  VAR_6    VAR_7     VAR_8  \\\n",
              "0   303.88  1.000000   303.88  1.000000  1.000000      8   244.32  1.000000   \n",
              "1    54.00  1.000000    53.80  1.000000  1.000000      4    46.66  1.000000   \n",
              "2   190.22  0.333333   860.91  0.220952  0.250000     12  1500.95  0.220952   \n",
              "3  1014.82  1.000000  1014.82  1.000000  0.916667     12  3055.18  1.000000   \n",
              "4    34.64  1.000000    34.64  1.000000  0.833333     12     0.00  1.000000   \n",
              "\n",
              "      VAR_9  VAR_10    VAR_11   VAR_12  VAR_13    VAR_14  VAR_15  TARGET_60_6  \\\n",
              "0  1.000000       0  1.000000  99998.0     3.0  0.666667     1.0            0   \n",
              "1  1.000000       4  1.000000  99998.0     3.0  0.666667     0.0            0   \n",
              "2  0.333333       0  0.220952  99997.0     NaN  0.250000     2.0            1   \n",
              "3  1.000000       0  1.000000  99998.0     9.0  0.916667     2.0            0   \n",
              "4  1.000000       0  0.127603  99999.0     NaN  0.833333     3.0            0   \n",
              "\n",
              "      PK_ID  PK_DATREF  \n",
              "0   6833803     201911  \n",
              "1   9932682     201908  \n",
              "2   4191107     201910  \n",
              "3   2196319     201906  \n",
              "4  27335719     201901  "
            ]
          },
          "execution_count": 51,
          "metadata": {},
          "output_type": "execute_result"
        }
      ],
      "source": [
        "train.head()"
      ]
    },
    {
      "cell_type": "code",
      "execution_count": null,
      "id": "3598ca34-ffdc-4e50-b05e-0aa9e54d2c06",
      "metadata": {
        "id": "3598ca34-ffdc-4e50-b05e-0aa9e54d2c06",
        "outputId": "7d70eaad-4031-400c-8170-3da70356e6e1"
      },
      "outputs": [
        {
          "data": {
            "text/plain": [
              "'20210910-10:21:05'"
            ]
          },
          "execution_count": 52,
          "metadata": {},
          "output_type": "execute_result"
        }
      ],
      "source": [
        "StartModel = PoDComputeStarFinishProcess(start=True,end=False)\n",
        "StartModel"
      ]
    },
    {
      "cell_type": "markdown",
      "id": "2d08a6d9",
      "metadata": {
        "id": "2d08a6d9"
      },
      "source": [
        "#### Applying data preparation"
      ]
    },
    {
      "cell_type": "code",
      "execution_count": null,
      "id": "2799acd3",
      "metadata": {
        "id": "2799acd3",
        "outputId": "8c4306ea-9004-4eec-eaa4-72a80389606d"
      },
      "outputs": [
        {
          "data": {
            "text/html": [
              "<style  type=\"text/css\" >\n",
              "#T_44320_row5_col1,#T_44320_row29_col1,#T_44320_row36_col1,#T_44320_row37_col1,#T_44320_row40_col1,#T_44320_row42_col1,#T_44320_row51_col1{\n",
              "            background-color:  lightgreen;\n",
              "        }</style><table id=\"T_44320_\" ><thead>    <tr>        <th class=\"blank level0\" ></th>        <th class=\"col_heading level0 col0\" >Description</th>        <th class=\"col_heading level0 col1\" >Value</th>    </tr></thead><tbody>\n",
              "                <tr>\n",
              "                        <th id=\"T_44320_level0_row0\" class=\"row_heading level0 row0\" >0</th>\n",
              "                        <td id=\"T_44320_row0_col0\" class=\"data row0 col0\" >session_id</td>\n",
              "                        <td id=\"T_44320_row0_col1\" class=\"data row0 col1\" >12345</td>\n",
              "            </tr>\n",
              "            <tr>\n",
              "                        <th id=\"T_44320_level0_row1\" class=\"row_heading level0 row1\" >1</th>\n",
              "                        <td id=\"T_44320_row1_col0\" class=\"data row1 col0\" >Target</td>\n",
              "                        <td id=\"T_44320_row1_col1\" class=\"data row1 col1\" >TARGET_60_6</td>\n",
              "            </tr>\n",
              "            <tr>\n",
              "                        <th id=\"T_44320_level0_row2\" class=\"row_heading level0 row2\" >2</th>\n",
              "                        <td id=\"T_44320_row2_col0\" class=\"data row2 col0\" >Target Type</td>\n",
              "                        <td id=\"T_44320_row2_col1\" class=\"data row2 col1\" >Binary</td>\n",
              "            </tr>\n",
              "            <tr>\n",
              "                        <th id=\"T_44320_level0_row3\" class=\"row_heading level0 row3\" >3</th>\n",
              "                        <td id=\"T_44320_row3_col0\" class=\"data row3 col0\" >Label Encoded</td>\n",
              "                        <td id=\"T_44320_row3_col1\" class=\"data row3 col1\" >0: 0, 1: 1</td>\n",
              "            </tr>\n",
              "            <tr>\n",
              "                        <th id=\"T_44320_level0_row4\" class=\"row_heading level0 row4\" >4</th>\n",
              "                        <td id=\"T_44320_row4_col0\" class=\"data row4 col0\" >Original Data</td>\n",
              "                        <td id=\"T_44320_row4_col1\" class=\"data row4 col1\" >(3500, 18)</td>\n",
              "            </tr>\n",
              "            <tr>\n",
              "                        <th id=\"T_44320_level0_row5\" class=\"row_heading level0 row5\" >5</th>\n",
              "                        <td id=\"T_44320_row5_col0\" class=\"data row5 col0\" >Missing Values</td>\n",
              "                        <td id=\"T_44320_row5_col1\" class=\"data row5 col1\" >True</td>\n",
              "            </tr>\n",
              "            <tr>\n",
              "                        <th id=\"T_44320_level0_row6\" class=\"row_heading level0 row6\" >6</th>\n",
              "                        <td id=\"T_44320_row6_col0\" class=\"data row6 col0\" >Numeric Features</td>\n",
              "                        <td id=\"T_44320_row6_col1\" class=\"data row6 col1\" >16</td>\n",
              "            </tr>\n",
              "            <tr>\n",
              "                        <th id=\"T_44320_level0_row7\" class=\"row_heading level0 row7\" >7</th>\n",
              "                        <td id=\"T_44320_row7_col0\" class=\"data row7 col0\" >Categorical Features</td>\n",
              "                        <td id=\"T_44320_row7_col1\" class=\"data row7 col1\" >0</td>\n",
              "            </tr>\n",
              "            <tr>\n",
              "                        <th id=\"T_44320_level0_row8\" class=\"row_heading level0 row8\" >8</th>\n",
              "                        <td id=\"T_44320_row8_col0\" class=\"data row8 col0\" >Ordinal Features</td>\n",
              "                        <td id=\"T_44320_row8_col1\" class=\"data row8 col1\" >False</td>\n",
              "            </tr>\n",
              "            <tr>\n",
              "                        <th id=\"T_44320_level0_row9\" class=\"row_heading level0 row9\" >9</th>\n",
              "                        <td id=\"T_44320_row9_col0\" class=\"data row9 col0\" >High Cardinality Features</td>\n",
              "                        <td id=\"T_44320_row9_col1\" class=\"data row9 col1\" >False</td>\n",
              "            </tr>\n",
              "            <tr>\n",
              "                        <th id=\"T_44320_level0_row10\" class=\"row_heading level0 row10\" >10</th>\n",
              "                        <td id=\"T_44320_row10_col0\" class=\"data row10 col0\" >High Cardinality Method</td>\n",
              "                        <td id=\"T_44320_row10_col1\" class=\"data row10 col1\" >None</td>\n",
              "            </tr>\n",
              "            <tr>\n",
              "                        <th id=\"T_44320_level0_row11\" class=\"row_heading level0 row11\" >11</th>\n",
              "                        <td id=\"T_44320_row11_col0\" class=\"data row11 col0\" >Transformed Train Set</td>\n",
              "                        <td id=\"T_44320_row11_col1\" class=\"data row11 col1\" >(2326, 5)</td>\n",
              "            </tr>\n",
              "            <tr>\n",
              "                        <th id=\"T_44320_level0_row12\" class=\"row_heading level0 row12\" >12</th>\n",
              "                        <td id=\"T_44320_row12_col0\" class=\"data row12 col0\" >Transformed Test Set</td>\n",
              "                        <td id=\"T_44320_row12_col1\" class=\"data row12 col1\" >(1051, 5)</td>\n",
              "            </tr>\n",
              "            <tr>\n",
              "                        <th id=\"T_44320_level0_row13\" class=\"row_heading level0 row13\" >13</th>\n",
              "                        <td id=\"T_44320_row13_col0\" class=\"data row13 col0\" >Shuffle Train-Test</td>\n",
              "                        <td id=\"T_44320_row13_col1\" class=\"data row13 col1\" >True</td>\n",
              "            </tr>\n",
              "            <tr>\n",
              "                        <th id=\"T_44320_level0_row14\" class=\"row_heading level0 row14\" >14</th>\n",
              "                        <td id=\"T_44320_row14_col0\" class=\"data row14 col0\" >Stratify Train-Test</td>\n",
              "                        <td id=\"T_44320_row14_col1\" class=\"data row14 col1\" >False</td>\n",
              "            </tr>\n",
              "            <tr>\n",
              "                        <th id=\"T_44320_level0_row15\" class=\"row_heading level0 row15\" >15</th>\n",
              "                        <td id=\"T_44320_row15_col0\" class=\"data row15 col0\" >Fold Generator</td>\n",
              "                        <td id=\"T_44320_row15_col1\" class=\"data row15 col1\" >StratifiedKFold</td>\n",
              "            </tr>\n",
              "            <tr>\n",
              "                        <th id=\"T_44320_level0_row16\" class=\"row_heading level0 row16\" >16</th>\n",
              "                        <td id=\"T_44320_row16_col0\" class=\"data row16 col0\" >Fold Number</td>\n",
              "                        <td id=\"T_44320_row16_col1\" class=\"data row16 col1\" >5</td>\n",
              "            </tr>\n",
              "            <tr>\n",
              "                        <th id=\"T_44320_level0_row17\" class=\"row_heading level0 row17\" >17</th>\n",
              "                        <td id=\"T_44320_row17_col0\" class=\"data row17 col0\" >CPU Jobs</td>\n",
              "                        <td id=\"T_44320_row17_col1\" class=\"data row17 col1\" >10</td>\n",
              "            </tr>\n",
              "            <tr>\n",
              "                        <th id=\"T_44320_level0_row18\" class=\"row_heading level0 row18\" >18</th>\n",
              "                        <td id=\"T_44320_row18_col0\" class=\"data row18 col0\" >Use GPU</td>\n",
              "                        <td id=\"T_44320_row18_col1\" class=\"data row18 col1\" >False</td>\n",
              "            </tr>\n",
              "            <tr>\n",
              "                        <th id=\"T_44320_level0_row19\" class=\"row_heading level0 row19\" >19</th>\n",
              "                        <td id=\"T_44320_row19_col0\" class=\"data row19 col0\" >Log Experiment</td>\n",
              "                        <td id=\"T_44320_row19_col1\" class=\"data row19 col1\" >False</td>\n",
              "            </tr>\n",
              "            <tr>\n",
              "                        <th id=\"T_44320_level0_row20\" class=\"row_heading level0 row20\" >20</th>\n",
              "                        <td id=\"T_44320_row20_col0\" class=\"data row20 col0\" >Experiment Name</td>\n",
              "                        <td id=\"T_44320_row20_col1\" class=\"data row20 col1\" >clf-default-name</td>\n",
              "            </tr>\n",
              "            <tr>\n",
              "                        <th id=\"T_44320_level0_row21\" class=\"row_heading level0 row21\" >21</th>\n",
              "                        <td id=\"T_44320_row21_col0\" class=\"data row21 col0\" >USI</td>\n",
              "                        <td id=\"T_44320_row21_col1\" class=\"data row21 col1\" >bd0c</td>\n",
              "            </tr>\n",
              "            <tr>\n",
              "                        <th id=\"T_44320_level0_row22\" class=\"row_heading level0 row22\" >22</th>\n",
              "                        <td id=\"T_44320_row22_col0\" class=\"data row22 col0\" >Imputation Type</td>\n",
              "                        <td id=\"T_44320_row22_col1\" class=\"data row22 col1\" >simple</td>\n",
              "            </tr>\n",
              "            <tr>\n",
              "                        <th id=\"T_44320_level0_row23\" class=\"row_heading level0 row23\" >23</th>\n",
              "                        <td id=\"T_44320_row23_col0\" class=\"data row23 col0\" >Iterative Imputation Iteration</td>\n",
              "                        <td id=\"T_44320_row23_col1\" class=\"data row23 col1\" >None</td>\n",
              "            </tr>\n",
              "            <tr>\n",
              "                        <th id=\"T_44320_level0_row24\" class=\"row_heading level0 row24\" >24</th>\n",
              "                        <td id=\"T_44320_row24_col0\" class=\"data row24 col0\" >Numeric Imputer</td>\n",
              "                        <td id=\"T_44320_row24_col1\" class=\"data row24 col1\" >mean</td>\n",
              "            </tr>\n",
              "            <tr>\n",
              "                        <th id=\"T_44320_level0_row25\" class=\"row_heading level0 row25\" >25</th>\n",
              "                        <td id=\"T_44320_row25_col0\" class=\"data row25 col0\" >Iterative Imputation Numeric Model</td>\n",
              "                        <td id=\"T_44320_row25_col1\" class=\"data row25 col1\" >None</td>\n",
              "            </tr>\n",
              "            <tr>\n",
              "                        <th id=\"T_44320_level0_row26\" class=\"row_heading level0 row26\" >26</th>\n",
              "                        <td id=\"T_44320_row26_col0\" class=\"data row26 col0\" >Categorical Imputer</td>\n",
              "                        <td id=\"T_44320_row26_col1\" class=\"data row26 col1\" >constant</td>\n",
              "            </tr>\n",
              "            <tr>\n",
              "                        <th id=\"T_44320_level0_row27\" class=\"row_heading level0 row27\" >27</th>\n",
              "                        <td id=\"T_44320_row27_col0\" class=\"data row27 col0\" >Iterative Imputation Categorical Model</td>\n",
              "                        <td id=\"T_44320_row27_col1\" class=\"data row27 col1\" >None</td>\n",
              "            </tr>\n",
              "            <tr>\n",
              "                        <th id=\"T_44320_level0_row28\" class=\"row_heading level0 row28\" >28</th>\n",
              "                        <td id=\"T_44320_row28_col0\" class=\"data row28 col0\" >Unknown Categoricals Handling</td>\n",
              "                        <td id=\"T_44320_row28_col1\" class=\"data row28 col1\" >least_frequent</td>\n",
              "            </tr>\n",
              "            <tr>\n",
              "                        <th id=\"T_44320_level0_row29\" class=\"row_heading level0 row29\" >29</th>\n",
              "                        <td id=\"T_44320_row29_col0\" class=\"data row29 col0\" >Normalize</td>\n",
              "                        <td id=\"T_44320_row29_col1\" class=\"data row29 col1\" >True</td>\n",
              "            </tr>\n",
              "            <tr>\n",
              "                        <th id=\"T_44320_level0_row30\" class=\"row_heading level0 row30\" >30</th>\n",
              "                        <td id=\"T_44320_row30_col0\" class=\"data row30 col0\" >Normalize Method</td>\n",
              "                        <td id=\"T_44320_row30_col1\" class=\"data row30 col1\" >zscore</td>\n",
              "            </tr>\n",
              "            <tr>\n",
              "                        <th id=\"T_44320_level0_row31\" class=\"row_heading level0 row31\" >31</th>\n",
              "                        <td id=\"T_44320_row31_col0\" class=\"data row31 col0\" >Transformation</td>\n",
              "                        <td id=\"T_44320_row31_col1\" class=\"data row31 col1\" >False</td>\n",
              "            </tr>\n",
              "            <tr>\n",
              "                        <th id=\"T_44320_level0_row32\" class=\"row_heading level0 row32\" >32</th>\n",
              "                        <td id=\"T_44320_row32_col0\" class=\"data row32 col0\" >Transformation Method</td>\n",
              "                        <td id=\"T_44320_row32_col1\" class=\"data row32 col1\" >None</td>\n",
              "            </tr>\n",
              "            <tr>\n",
              "                        <th id=\"T_44320_level0_row33\" class=\"row_heading level0 row33\" >33</th>\n",
              "                        <td id=\"T_44320_row33_col0\" class=\"data row33 col0\" >PCA</td>\n",
              "                        <td id=\"T_44320_row33_col1\" class=\"data row33 col1\" >False</td>\n",
              "            </tr>\n",
              "            <tr>\n",
              "                        <th id=\"T_44320_level0_row34\" class=\"row_heading level0 row34\" >34</th>\n",
              "                        <td id=\"T_44320_row34_col0\" class=\"data row34 col0\" >PCA Method</td>\n",
              "                        <td id=\"T_44320_row34_col1\" class=\"data row34 col1\" >None</td>\n",
              "            </tr>\n",
              "            <tr>\n",
              "                        <th id=\"T_44320_level0_row35\" class=\"row_heading level0 row35\" >35</th>\n",
              "                        <td id=\"T_44320_row35_col0\" class=\"data row35 col0\" >PCA Components</td>\n",
              "                        <td id=\"T_44320_row35_col1\" class=\"data row35 col1\" >None</td>\n",
              "            </tr>\n",
              "            <tr>\n",
              "                        <th id=\"T_44320_level0_row36\" class=\"row_heading level0 row36\" >36</th>\n",
              "                        <td id=\"T_44320_row36_col0\" class=\"data row36 col0\" >Ignore Low Variance</td>\n",
              "                        <td id=\"T_44320_row36_col1\" class=\"data row36 col1\" >True</td>\n",
              "            </tr>\n",
              "            <tr>\n",
              "                        <th id=\"T_44320_level0_row37\" class=\"row_heading level0 row37\" >37</th>\n",
              "                        <td id=\"T_44320_row37_col0\" class=\"data row37 col0\" >Combine Rare Levels</td>\n",
              "                        <td id=\"T_44320_row37_col1\" class=\"data row37 col1\" >True</td>\n",
              "            </tr>\n",
              "            <tr>\n",
              "                        <th id=\"T_44320_level0_row38\" class=\"row_heading level0 row38\" >38</th>\n",
              "                        <td id=\"T_44320_row38_col0\" class=\"data row38 col0\" >Rare Level Threshold</td>\n",
              "                        <td id=\"T_44320_row38_col1\" class=\"data row38 col1\" >0.100000</td>\n",
              "            </tr>\n",
              "            <tr>\n",
              "                        <th id=\"T_44320_level0_row39\" class=\"row_heading level0 row39\" >39</th>\n",
              "                        <td id=\"T_44320_row39_col0\" class=\"data row39 col0\" >Numeric Binning</td>\n",
              "                        <td id=\"T_44320_row39_col1\" class=\"data row39 col1\" >False</td>\n",
              "            </tr>\n",
              "            <tr>\n",
              "                        <th id=\"T_44320_level0_row40\" class=\"row_heading level0 row40\" >40</th>\n",
              "                        <td id=\"T_44320_row40_col0\" class=\"data row40 col0\" >Remove Outliers</td>\n",
              "                        <td id=\"T_44320_row40_col1\" class=\"data row40 col1\" >True</td>\n",
              "            </tr>\n",
              "            <tr>\n",
              "                        <th id=\"T_44320_level0_row41\" class=\"row_heading level0 row41\" >41</th>\n",
              "                        <td id=\"T_44320_row41_col0\" class=\"data row41 col0\" >Outliers Threshold</td>\n",
              "                        <td id=\"T_44320_row41_col1\" class=\"data row41 col1\" >0.050000</td>\n",
              "            </tr>\n",
              "            <tr>\n",
              "                        <th id=\"T_44320_level0_row42\" class=\"row_heading level0 row42\" >42</th>\n",
              "                        <td id=\"T_44320_row42_col0\" class=\"data row42 col0\" >Remove Multicollinearity</td>\n",
              "                        <td id=\"T_44320_row42_col1\" class=\"data row42 col1\" >True</td>\n",
              "            </tr>\n",
              "            <tr>\n",
              "                        <th id=\"T_44320_level0_row43\" class=\"row_heading level0 row43\" >43</th>\n",
              "                        <td id=\"T_44320_row43_col0\" class=\"data row43 col0\" >Multicollinearity Threshold</td>\n",
              "                        <td id=\"T_44320_row43_col1\" class=\"data row43 col1\" >0.900000</td>\n",
              "            </tr>\n",
              "            <tr>\n",
              "                        <th id=\"T_44320_level0_row44\" class=\"row_heading level0 row44\" >44</th>\n",
              "                        <td id=\"T_44320_row44_col0\" class=\"data row44 col0\" >Clustering</td>\n",
              "                        <td id=\"T_44320_row44_col1\" class=\"data row44 col1\" >False</td>\n",
              "            </tr>\n",
              "            <tr>\n",
              "                        <th id=\"T_44320_level0_row45\" class=\"row_heading level0 row45\" >45</th>\n",
              "                        <td id=\"T_44320_row45_col0\" class=\"data row45 col0\" >Clustering Iteration</td>\n",
              "                        <td id=\"T_44320_row45_col1\" class=\"data row45 col1\" >None</td>\n",
              "            </tr>\n",
              "            <tr>\n",
              "                        <th id=\"T_44320_level0_row46\" class=\"row_heading level0 row46\" >46</th>\n",
              "                        <td id=\"T_44320_row46_col0\" class=\"data row46 col0\" >Polynomial Features</td>\n",
              "                        <td id=\"T_44320_row46_col1\" class=\"data row46 col1\" >False</td>\n",
              "            </tr>\n",
              "            <tr>\n",
              "                        <th id=\"T_44320_level0_row47\" class=\"row_heading level0 row47\" >47</th>\n",
              "                        <td id=\"T_44320_row47_col0\" class=\"data row47 col0\" >Polynomial Degree</td>\n",
              "                        <td id=\"T_44320_row47_col1\" class=\"data row47 col1\" >None</td>\n",
              "            </tr>\n",
              "            <tr>\n",
              "                        <th id=\"T_44320_level0_row48\" class=\"row_heading level0 row48\" >48</th>\n",
              "                        <td id=\"T_44320_row48_col0\" class=\"data row48 col0\" >Trignometry Features</td>\n",
              "                        <td id=\"T_44320_row48_col1\" class=\"data row48 col1\" >False</td>\n",
              "            </tr>\n",
              "            <tr>\n",
              "                        <th id=\"T_44320_level0_row49\" class=\"row_heading level0 row49\" >49</th>\n",
              "                        <td id=\"T_44320_row49_col0\" class=\"data row49 col0\" >Polynomial Threshold</td>\n",
              "                        <td id=\"T_44320_row49_col1\" class=\"data row49 col1\" >None</td>\n",
              "            </tr>\n",
              "            <tr>\n",
              "                        <th id=\"T_44320_level0_row50\" class=\"row_heading level0 row50\" >50</th>\n",
              "                        <td id=\"T_44320_row50_col0\" class=\"data row50 col0\" >Group Features</td>\n",
              "                        <td id=\"T_44320_row50_col1\" class=\"data row50 col1\" >False</td>\n",
              "            </tr>\n",
              "            <tr>\n",
              "                        <th id=\"T_44320_level0_row51\" class=\"row_heading level0 row51\" >51</th>\n",
              "                        <td id=\"T_44320_row51_col0\" class=\"data row51 col0\" >Feature Selection</td>\n",
              "                        <td id=\"T_44320_row51_col1\" class=\"data row51 col1\" >True</td>\n",
              "            </tr>\n",
              "            <tr>\n",
              "                        <th id=\"T_44320_level0_row52\" class=\"row_heading level0 row52\" >52</th>\n",
              "                        <td id=\"T_44320_row52_col0\" class=\"data row52 col0\" >Feature Selection Method</td>\n",
              "                        <td id=\"T_44320_row52_col1\" class=\"data row52 col1\" >classic</td>\n",
              "            </tr>\n",
              "            <tr>\n",
              "                        <th id=\"T_44320_level0_row53\" class=\"row_heading level0 row53\" >53</th>\n",
              "                        <td id=\"T_44320_row53_col0\" class=\"data row53 col0\" >Features Selection Threshold</td>\n",
              "                        <td id=\"T_44320_row53_col1\" class=\"data row53 col1\" >0.100000</td>\n",
              "            </tr>\n",
              "            <tr>\n",
              "                        <th id=\"T_44320_level0_row54\" class=\"row_heading level0 row54\" >54</th>\n",
              "                        <td id=\"T_44320_row54_col0\" class=\"data row54 col0\" >Feature Interaction</td>\n",
              "                        <td id=\"T_44320_row54_col1\" class=\"data row54 col1\" >False</td>\n",
              "            </tr>\n",
              "            <tr>\n",
              "                        <th id=\"T_44320_level0_row55\" class=\"row_heading level0 row55\" >55</th>\n",
              "                        <td id=\"T_44320_row55_col0\" class=\"data row55 col0\" >Feature Ratio</td>\n",
              "                        <td id=\"T_44320_row55_col1\" class=\"data row55 col1\" >False</td>\n",
              "            </tr>\n",
              "            <tr>\n",
              "                        <th id=\"T_44320_level0_row56\" class=\"row_heading level0 row56\" >56</th>\n",
              "                        <td id=\"T_44320_row56_col0\" class=\"data row56 col0\" >Interaction Threshold</td>\n",
              "                        <td id=\"T_44320_row56_col1\" class=\"data row56 col1\" >None</td>\n",
              "            </tr>\n",
              "            <tr>\n",
              "                        <th id=\"T_44320_level0_row57\" class=\"row_heading level0 row57\" >57</th>\n",
              "                        <td id=\"T_44320_row57_col0\" class=\"data row57 col0\" >Fix Imbalance</td>\n",
              "                        <td id=\"T_44320_row57_col1\" class=\"data row57 col1\" >False</td>\n",
              "            </tr>\n",
              "            <tr>\n",
              "                        <th id=\"T_44320_level0_row58\" class=\"row_heading level0 row58\" >58</th>\n",
              "                        <td id=\"T_44320_row58_col0\" class=\"data row58 col0\" >Fix Imbalance Method</td>\n",
              "                        <td id=\"T_44320_row58_col1\" class=\"data row58 col1\" >SMOTE</td>\n",
              "            </tr>\n",
              "    </tbody></table>"
            ],
            "text/plain": [
              "<pandas.io.formats.style.Styler at 0x7f374d6b2370>"
            ]
          },
          "metadata": {},
          "output_type": "display_data"
        }
      ],
      "source": [
        "ConfigProj,X_train,used_features,listxsv,train_selvar = PoDConfigClassDataPrep(\n",
        "                                                                               train,\n",
        "                                                                               train_size,\n",
        "                                                                               targetname,\n",
        "                                                                               idlist,\n",
        "                                                                               ignore_variables,\n",
        "                                                                               enable_high_card_feat,\n",
        "                                                                               card_threshold,\n",
        "                                                                               normalize,\n",
        "                                                                               normalize_method,\n",
        "                                                                               ignore_low_variance,\n",
        "                                                                               combine_rare_levels,\n",
        "                                                                               bin_numeric_features,\n",
        "                                                                               remove_outliers,\n",
        "                                                                               outliers_threshold,\n",
        "                                                                               remove_multicollinearity,\n",
        "                                                                               multicollinearity_threshold,\n",
        "                                                                               remove_perfect_collinearity,\n",
        "                                                                               find_subpops,\n",
        "                                                                               polynomial_features,\n",
        "                                                                               polynomial_degree,\n",
        "                                                                               feature_selection,\n",
        "                                                                               feature_selection_threshold,\n",
        "                                                                               feature_interaction,\n",
        "                                                                               feature_ratio,\n",
        "                                                                               interaction_threshold,\n",
        "                                                                               fix_imbalance,\n",
        "                                                                               kfold,\n",
        "                                                                               njobs,\n",
        "                                                                               seedproj\n",
        "                                                                              )"
      ]
    },
    {
      "cell_type": "code",
      "execution_count": null,
      "id": "e5885f1b-3773-4eba-a8be-faa81417d399",
      "metadata": {
        "id": "e5885f1b-3773-4eba-a8be-faa81417d399",
        "outputId": "9ef8a9bf-ac71-4bab-c75e-73b91791db48"
      },
      "outputs": [
        {
          "data": {
            "text/html": [
              "<div>\n",
              "<style scoped>\n",
              "    .dataframe tbody tr th:only-of-type {\n",
              "        vertical-align: middle;\n",
              "    }\n",
              "\n",
              "    .dataframe tbody tr th {\n",
              "        vertical-align: top;\n",
              "    }\n",
              "\n",
              "    .dataframe thead th {\n",
              "        text-align: right;\n",
              "    }\n",
              "</style>\n",
              "<table border=\"1\" class=\"dataframe\">\n",
              "  <thead>\n",
              "    <tr style=\"text-align: right;\">\n",
              "      <th></th>\n",
              "      <th>VAR_7</th>\n",
              "      <th>VAR_5</th>\n",
              "      <th>VAR_3</th>\n",
              "      <th>VAR_2</th>\n",
              "      <th>VAR_1</th>\n",
              "    </tr>\n",
              "  </thead>\n",
              "  <tbody>\n",
              "    <tr>\n",
              "      <th>916</th>\n",
              "      <td>0.818083</td>\n",
              "      <td>0.727757</td>\n",
              "      <td>0.684783</td>\n",
              "      <td>0.554103</td>\n",
              "      <td>1.002053</td>\n",
              "    </tr>\n",
              "    <tr>\n",
              "      <th>347</th>\n",
              "      <td>-0.322710</td>\n",
              "      <td>-0.251360</td>\n",
              "      <td>0.844527</td>\n",
              "      <td>0.554103</td>\n",
              "      <td>1.183360</td>\n",
              "    </tr>\n",
              "    <tr>\n",
              "      <th>3213</th>\n",
              "      <td>-0.805026</td>\n",
              "      <td>0.727757</td>\n",
              "      <td>-1.065464</td>\n",
              "      <td>0.554103</td>\n",
              "      <td>-0.984454</td>\n",
              "    </tr>\n",
              "    <tr>\n",
              "      <th>446</th>\n",
              "      <td>1.585594</td>\n",
              "      <td>0.727757</td>\n",
              "      <td>0.951085</td>\n",
              "      <td>0.554103</td>\n",
              "      <td>1.304302</td>\n",
              "    </tr>\n",
              "    <tr>\n",
              "      <th>821</th>\n",
              "      <td>-0.550342</td>\n",
              "      <td>0.727757</td>\n",
              "      <td>-0.274928</td>\n",
              "      <td>0.554103</td>\n",
              "      <td>-0.087206</td>\n",
              "    </tr>\n",
              "  </tbody>\n",
              "</table>\n",
              "</div>"
            ],
            "text/plain": [
              "         VAR_7     VAR_5     VAR_3     VAR_2     VAR_1\n",
              "916   0.818083  0.727757  0.684783  0.554103  1.002053\n",
              "347  -0.322710 -0.251360  0.844527  0.554103  1.183360\n",
              "3213 -0.805026  0.727757 -1.065464  0.554103 -0.984454\n",
              "446   1.585594  0.727757  0.951085  0.554103  1.304302\n",
              "821  -0.550342  0.727757 -0.274928  0.554103 -0.087206"
            ]
          },
          "execution_count": 54,
          "metadata": {},
          "output_type": "execute_result"
        }
      ],
      "source": [
        "X_train.head()"
      ]
    },
    {
      "cell_type": "code",
      "execution_count": null,
      "id": "9660efe4-fea2-4455-9aa6-e0c340c4782c",
      "metadata": {
        "id": "9660efe4-fea2-4455-9aa6-e0c340c4782c",
        "outputId": "446a24b5-954f-4f99-95e8-1b28dee481fa"
      },
      "outputs": [
        {
          "data": {
            "text/html": [
              "<div>\n",
              "<style scoped>\n",
              "    .dataframe tbody tr th:only-of-type {\n",
              "        vertical-align: middle;\n",
              "    }\n",
              "\n",
              "    .dataframe tbody tr th {\n",
              "        vertical-align: top;\n",
              "    }\n",
              "\n",
              "    .dataframe thead th {\n",
              "        text-align: right;\n",
              "    }\n",
              "</style>\n",
              "<table border=\"1\" class=\"dataframe\">\n",
              "  <thead>\n",
              "    <tr style=\"text-align: right;\">\n",
              "      <th></th>\n",
              "      <th>PK_ID</th>\n",
              "      <th>VAR_7</th>\n",
              "      <th>VAR_5</th>\n",
              "      <th>VAR_3</th>\n",
              "      <th>VAR_2</th>\n",
              "      <th>VAR_1</th>\n",
              "      <th>TARGET_60_6</th>\n",
              "    </tr>\n",
              "  </thead>\n",
              "  <tbody>\n",
              "    <tr>\n",
              "      <th>0</th>\n",
              "      <td>6833803</td>\n",
              "      <td>244.32</td>\n",
              "      <td>1.000000</td>\n",
              "      <td>303.88</td>\n",
              "      <td>1.000000</td>\n",
              "      <td>303.88</td>\n",
              "      <td>0</td>\n",
              "    </tr>\n",
              "    <tr>\n",
              "      <th>1</th>\n",
              "      <td>9932682</td>\n",
              "      <td>46.66</td>\n",
              "      <td>1.000000</td>\n",
              "      <td>53.80</td>\n",
              "      <td>1.000000</td>\n",
              "      <td>54.00</td>\n",
              "      <td>0</td>\n",
              "    </tr>\n",
              "    <tr>\n",
              "      <th>2</th>\n",
              "      <td>4191107</td>\n",
              "      <td>1500.95</td>\n",
              "      <td>0.250000</td>\n",
              "      <td>860.91</td>\n",
              "      <td>0.333333</td>\n",
              "      <td>190.22</td>\n",
              "      <td>1</td>\n",
              "    </tr>\n",
              "    <tr>\n",
              "      <th>3</th>\n",
              "      <td>2196319</td>\n",
              "      <td>3055.18</td>\n",
              "      <td>0.916667</td>\n",
              "      <td>1014.82</td>\n",
              "      <td>1.000000</td>\n",
              "      <td>1014.82</td>\n",
              "      <td>0</td>\n",
              "    </tr>\n",
              "    <tr>\n",
              "      <th>4</th>\n",
              "      <td>27335719</td>\n",
              "      <td>0.00</td>\n",
              "      <td>0.833333</td>\n",
              "      <td>34.64</td>\n",
              "      <td>1.000000</td>\n",
              "      <td>34.64</td>\n",
              "      <td>0</td>\n",
              "    </tr>\n",
              "  </tbody>\n",
              "</table>\n",
              "</div>"
            ],
            "text/plain": [
              "      PK_ID    VAR_7     VAR_5    VAR_3     VAR_2    VAR_1  TARGET_60_6\n",
              "0   6833803   244.32  1.000000   303.88  1.000000   303.88            0\n",
              "1   9932682    46.66  1.000000    53.80  1.000000    54.00            0\n",
              "2   4191107  1500.95  0.250000   860.91  0.333333   190.22            1\n",
              "3   2196319  3055.18  0.916667  1014.82  1.000000  1014.82            0\n",
              "4  27335719     0.00  0.833333    34.64  1.000000    34.64            0"
            ]
          },
          "execution_count": 55,
          "metadata": {},
          "output_type": "execute_result"
        }
      ],
      "source": [
        "train_selvar.head()"
      ]
    },
    {
      "cell_type": "markdown",
      "id": "aa87a107-992c-48ac-b744-a792c352673c",
      "metadata": {
        "id": "aa87a107-992c-48ac-b744-a792c352673c"
      },
      "source": [
        "#### Training Models"
      ]
    },
    {
      "cell_type": "code",
      "execution_count": null,
      "id": "d629ad5f-3b3a-49d2-b807-c8eefbe1c6a9",
      "metadata": {
        "id": "d629ad5f-3b3a-49d2-b807-c8eefbe1c6a9",
        "outputId": "c3e7735c-b22b-447d-b6c4-fc7672c76d12"
      },
      "outputs": [
        {
          "data": {
            "text/html": [
              "<style  type=\"text/css\" >\n",
              "#T_90b21_row5_col0,#T_90b21_row5_col1,#T_90b21_row5_col2,#T_90b21_row5_col3,#T_90b21_row5_col4,#T_90b21_row5_col5,#T_90b21_row5_col6,#T_90b21_row5_col7,#T_90b21_row5_col8{\n",
              "            background:  yellow;\n",
              "        }</style><table id=\"T_90b21_\" ><thead>    <tr>        <th class=\"blank level0\" ></th>        <th class=\"col_heading level0 col0\" >Accuracy</th>        <th class=\"col_heading level0 col1\" >AUC</th>        <th class=\"col_heading level0 col2\" >Recall</th>        <th class=\"col_heading level0 col3\" >Prec.</th>        <th class=\"col_heading level0 col4\" >F1</th>        <th class=\"col_heading level0 col5\" >Kappa</th>        <th class=\"col_heading level0 col6\" >MCC</th>        <th class=\"col_heading level0 col7\" >KS</th>        <th class=\"col_heading level0 col8\" >Gini</th>    </tr></thead><tbody>\n",
              "                <tr>\n",
              "                        <th id=\"T_90b21_level0_row0\" class=\"row_heading level0 row0\" >0</th>\n",
              "                        <td id=\"T_90b21_row0_col0\" class=\"data row0 col0\" >0.8069</td>\n",
              "                        <td id=\"T_90b21_row0_col1\" class=\"data row0 col1\" >0.7549</td>\n",
              "                        <td id=\"T_90b21_row0_col2\" class=\"data row0 col2\" >0.6182</td>\n",
              "                        <td id=\"T_90b21_row0_col3\" class=\"data row0 col3\" >0.3301</td>\n",
              "                        <td id=\"T_90b21_row0_col4\" class=\"data row0 col4\" >0.4304</td>\n",
              "                        <td id=\"T_90b21_row0_col5\" class=\"data row0 col5\" >0.3268</td>\n",
              "                        <td id=\"T_90b21_row0_col6\" class=\"data row0 col6\" >0.3501</td>\n",
              "                        <td id=\"T_90b21_row0_col7\" class=\"data row0 col7\" >0.4800</td>\n",
              "                        <td id=\"T_90b21_row0_col8\" class=\"data row0 col8\" >0.5098</td>\n",
              "            </tr>\n",
              "            <tr>\n",
              "                        <th id=\"T_90b21_level0_row1\" class=\"row_heading level0 row1\" >1</th>\n",
              "                        <td id=\"T_90b21_row1_col0\" class=\"data row1 col0\" >0.7892</td>\n",
              "                        <td id=\"T_90b21_row1_col1\" class=\"data row1 col1\" >0.7460</td>\n",
              "                        <td id=\"T_90b21_row1_col2\" class=\"data row1 col2\" >0.6545</td>\n",
              "                        <td id=\"T_90b21_row1_col3\" class=\"data row1 col3\" >0.3130</td>\n",
              "                        <td id=\"T_90b21_row1_col4\" class=\"data row1 col4\" >0.4235</td>\n",
              "                        <td id=\"T_90b21_row1_col5\" class=\"data row1 col5\" >0.3137</td>\n",
              "                        <td id=\"T_90b21_row1_col6\" class=\"data row1 col6\" >0.3457</td>\n",
              "                        <td id=\"T_90b21_row1_col7\" class=\"data row1 col7\" >0.4700</td>\n",
              "                        <td id=\"T_90b21_row1_col8\" class=\"data row1 col8\" >0.4920</td>\n",
              "            </tr>\n",
              "            <tr>\n",
              "                        <th id=\"T_90b21_level0_row2\" class=\"row_heading level0 row2\" >2</th>\n",
              "                        <td id=\"T_90b21_row2_col0\" class=\"data row2 col0\" >0.8344</td>\n",
              "                        <td id=\"T_90b21_row2_col1\" class=\"data row2 col1\" >0.8035</td>\n",
              "                        <td id=\"T_90b21_row2_col2\" class=\"data row2 col2\" >0.5818</td>\n",
              "                        <td id=\"T_90b21_row2_col3\" class=\"data row2 col3\" >0.3721</td>\n",
              "                        <td id=\"T_90b21_row2_col4\" class=\"data row2 col4\" >0.4539</td>\n",
              "                        <td id=\"T_90b21_row2_col5\" class=\"data row2 col5\" >0.3618</td>\n",
              "                        <td id=\"T_90b21_row2_col6\" class=\"data row2 col6\" >0.3744</td>\n",
              "                        <td id=\"T_90b21_row2_col7\" class=\"data row2 col7\" >0.4800</td>\n",
              "                        <td id=\"T_90b21_row2_col8\" class=\"data row2 col8\" >0.6070</td>\n",
              "            </tr>\n",
              "            <tr>\n",
              "                        <th id=\"T_90b21_level0_row3\" class=\"row_heading level0 row3\" >3</th>\n",
              "                        <td id=\"T_90b21_row3_col0\" class=\"data row3 col0\" >0.7785</td>\n",
              "                        <td id=\"T_90b21_row3_col1\" class=\"data row3 col1\" >0.7692</td>\n",
              "                        <td id=\"T_90b21_row3_col2\" class=\"data row3 col2\" >0.6909</td>\n",
              "                        <td id=\"T_90b21_row3_col3\" class=\"data row3 col3\" >0.3065</td>\n",
              "                        <td id=\"T_90b21_row3_col4\" class=\"data row3 col4\" >0.4246</td>\n",
              "                        <td id=\"T_90b21_row3_col5\" class=\"data row3 col5\" >0.3118</td>\n",
              "                        <td id=\"T_90b21_row3_col6\" class=\"data row3 col6\" >0.3514</td>\n",
              "                        <td id=\"T_90b21_row3_col7\" class=\"data row3 col7\" >0.5100</td>\n",
              "                        <td id=\"T_90b21_row3_col8\" class=\"data row3 col8\" >0.5384</td>\n",
              "            </tr>\n",
              "            <tr>\n",
              "                        <th id=\"T_90b21_level0_row4\" class=\"row_heading level0 row4\" >4</th>\n",
              "                        <td id=\"T_90b21_row4_col0\" class=\"data row4 col0\" >0.7763</td>\n",
              "                        <td id=\"T_90b21_row4_col1\" class=\"data row4 col1\" >0.7895</td>\n",
              "                        <td id=\"T_90b21_row4_col2\" class=\"data row4 col2\" >0.6545</td>\n",
              "                        <td id=\"T_90b21_row4_col3\" class=\"data row4 col3\" >0.2975</td>\n",
              "                        <td id=\"T_90b21_row4_col4\" class=\"data row4 col4\" >0.4091</td>\n",
              "                        <td id=\"T_90b21_row4_col5\" class=\"data row4 col5\" >0.2943</td>\n",
              "                        <td id=\"T_90b21_row4_col6\" class=\"data row4 col6\" >0.3292</td>\n",
              "                        <td id=\"T_90b21_row4_col7\" class=\"data row4 col7\" >0.4600</td>\n",
              "                        <td id=\"T_90b21_row4_col8\" class=\"data row4 col8\" >0.5790</td>\n",
              "            </tr>\n",
              "            <tr>\n",
              "                        <th id=\"T_90b21_level0_row5\" class=\"row_heading level0 row5\" >Mean</th>\n",
              "                        <td id=\"T_90b21_row5_col0\" class=\"data row5 col0\" >0.7971</td>\n",
              "                        <td id=\"T_90b21_row5_col1\" class=\"data row5 col1\" >0.7726</td>\n",
              "                        <td id=\"T_90b21_row5_col2\" class=\"data row5 col2\" >0.6400</td>\n",
              "                        <td id=\"T_90b21_row5_col3\" class=\"data row5 col3\" >0.3238</td>\n",
              "                        <td id=\"T_90b21_row5_col4\" class=\"data row5 col4\" >0.4283</td>\n",
              "                        <td id=\"T_90b21_row5_col5\" class=\"data row5 col5\" >0.3217</td>\n",
              "                        <td id=\"T_90b21_row5_col6\" class=\"data row5 col6\" >0.3502</td>\n",
              "                        <td id=\"T_90b21_row5_col7\" class=\"data row5 col7\" >0.4800</td>\n",
              "                        <td id=\"T_90b21_row5_col8\" class=\"data row5 col8\" >0.5452</td>\n",
              "            </tr>\n",
              "            <tr>\n",
              "                        <th id=\"T_90b21_level0_row6\" class=\"row_heading level0 row6\" >SD</th>\n",
              "                        <td id=\"T_90b21_row6_col0\" class=\"data row6 col0\" >0.0216</td>\n",
              "                        <td id=\"T_90b21_row6_col1\" class=\"data row6 col1\" >0.0213</td>\n",
              "                        <td id=\"T_90b21_row6_col2\" class=\"data row6 col2\" >0.0371</td>\n",
              "                        <td id=\"T_90b21_row6_col3\" class=\"data row6 col3\" >0.0264</td>\n",
              "                        <td id=\"T_90b21_row6_col4\" class=\"data row6 col4\" >0.0146</td>\n",
              "                        <td id=\"T_90b21_row6_col5\" class=\"data row6 col5\" >0.0226</td>\n",
              "                        <td id=\"T_90b21_row6_col6\" class=\"data row6 col6\" >0.0145</td>\n",
              "                        <td id=\"T_90b21_row6_col7\" class=\"data row6 col7\" >0.0167</td>\n",
              "                        <td id=\"T_90b21_row6_col8\" class=\"data row6 col8\" >0.0426</td>\n",
              "            </tr>\n",
              "    </tbody></table>"
            ],
            "text/plain": [
              "<pandas.io.formats.style.Styler at 0x7f37cd20c2b0>"
            ]
          },
          "metadata": {},
          "output_type": "display_data"
        }
      ],
      "source": [
        "best_model,model_comp,tuned_mdl,tunedmodl = PoDTrainingClassModels(idmodels,sort,kfold,optimize)"
      ]
    },
    {
      "cell_type": "code",
      "execution_count": null,
      "id": "2dd9aa0a-9d63-4788-8c8a-744394e74f07",
      "metadata": {
        "id": "2dd9aa0a-9d63-4788-8c8a-744394e74f07",
        "outputId": "0811cfa5-feed-40e4-8bcd-f7100ff740e0"
      },
      "outputs": [
        {
          "data": {
            "text/plain": [
              "'20210910-10:21:39'"
            ]
          },
          "execution_count": 57,
          "metadata": {},
          "output_type": "execute_result"
        }
      ],
      "source": [
        "FinishModel = PoDComputeStarFinishProcess(start=False,end=True)\n",
        "FinishModel"
      ]
    },
    {
      "cell_type": "code",
      "execution_count": null,
      "id": "7d7bd75b-3cd2-40e0-b3c7-963672a52169",
      "metadata": {
        "id": "7d7bd75b-3cd2-40e0-b3c7-963672a52169",
        "outputId": "916ed581-f46d-444f-b6fd-917f8f450e71"
      },
      "outputs": [
        {
          "data": {
            "text/plain": [
              "LogisticRegression(C=1.0, class_weight=None, dual=False, fit_intercept=True,\n",
              "                   intercept_scaling=1, l1_ratio=None, max_iter=1000,\n",
              "                   multi_class='auto', n_jobs=None, penalty='l2',\n",
              "                   random_state=12345, solver='lbfgs', tol=0.0001, verbose=0,\n",
              "                   warm_start=False)"
            ]
          },
          "execution_count": 58,
          "metadata": {},
          "output_type": "execute_result"
        }
      ],
      "source": [
        "best_model"
      ]
    },
    {
      "cell_type": "code",
      "execution_count": null,
      "id": "ca9c6089-1bcf-45d7-ac73-ab4e140a4173",
      "metadata": {
        "id": "ca9c6089-1bcf-45d7-ac73-ab4e140a4173",
        "outputId": "24ceb38c-baf1-4181-9d91-c44d33263f1e"
      },
      "outputs": [
        {
          "data": {
            "text/html": [
              "<div>\n",
              "<style scoped>\n",
              "    .dataframe tbody tr th:only-of-type {\n",
              "        vertical-align: middle;\n",
              "    }\n",
              "\n",
              "    .dataframe tbody tr th {\n",
              "        vertical-align: top;\n",
              "    }\n",
              "\n",
              "    .dataframe thead th {\n",
              "        text-align: right;\n",
              "    }\n",
              "</style>\n",
              "<table border=\"1\" class=\"dataframe\">\n",
              "  <thead>\n",
              "    <tr style=\"text-align: right;\">\n",
              "      <th></th>\n",
              "      <th>Model</th>\n",
              "      <th>Accuracy</th>\n",
              "      <th>AUC</th>\n",
              "      <th>Recall</th>\n",
              "      <th>Prec.</th>\n",
              "      <th>F1</th>\n",
              "      <th>Kappa</th>\n",
              "      <th>MCC</th>\n",
              "      <th>KS</th>\n",
              "      <th>Gini</th>\n",
              "      <th>TT (Sec)</th>\n",
              "    </tr>\n",
              "  </thead>\n",
              "  <tbody>\n",
              "    <tr>\n",
              "      <th>lr</th>\n",
              "      <td>Logistic Regression</td>\n",
              "      <td>0.8921</td>\n",
              "      <td>0.7669</td>\n",
              "      <td>0.1964</td>\n",
              "      <td>0.6566</td>\n",
              "      <td>0.3008</td>\n",
              "      <td>0.2600</td>\n",
              "      <td>0.3173</td>\n",
              "      <td>0.482</td>\n",
              "      <td>0.5338</td>\n",
              "      <td>0.720</td>\n",
              "    </tr>\n",
              "    <tr>\n",
              "      <th>gbc</th>\n",
              "      <td>Gradient Boosting Classifier</td>\n",
              "      <td>0.8861</td>\n",
              "      <td>0.7668</td>\n",
              "      <td>0.2473</td>\n",
              "      <td>0.5367</td>\n",
              "      <td>0.3371</td>\n",
              "      <td>0.2845</td>\n",
              "      <td>0.3106</td>\n",
              "      <td>0.476</td>\n",
              "      <td>0.5336</td>\n",
              "      <td>0.784</td>\n",
              "    </tr>\n",
              "    <tr>\n",
              "      <th>rf</th>\n",
              "      <td>Random Forest Classifier</td>\n",
              "      <td>0.8938</td>\n",
              "      <td>0.7534</td>\n",
              "      <td>0.2545</td>\n",
              "      <td>0.6227</td>\n",
              "      <td>0.3602</td>\n",
              "      <td>0.3137</td>\n",
              "      <td>0.3517</td>\n",
              "      <td>0.444</td>\n",
              "      <td>0.5068</td>\n",
              "      <td>0.812</td>\n",
              "    </tr>\n",
              "    <tr>\n",
              "      <th>lightgbm</th>\n",
              "      <td>Light Gradient Boosting Machine</td>\n",
              "      <td>0.8925</td>\n",
              "      <td>0.7458</td>\n",
              "      <td>0.3055</td>\n",
              "      <td>0.5933</td>\n",
              "      <td>0.3994</td>\n",
              "      <td>0.3475</td>\n",
              "      <td>0.3723</td>\n",
              "      <td>0.418</td>\n",
              "      <td>0.4916</td>\n",
              "      <td>0.802</td>\n",
              "    </tr>\n",
              "    <tr>\n",
              "      <th>xgboost</th>\n",
              "      <td>Extreme Gradient Boosting</td>\n",
              "      <td>0.8878</td>\n",
              "      <td>0.7373</td>\n",
              "      <td>0.3055</td>\n",
              "      <td>0.5521</td>\n",
              "      <td>0.3886</td>\n",
              "      <td>0.3331</td>\n",
              "      <td>0.3528</td>\n",
              "      <td>0.408</td>\n",
              "      <td>0.4745</td>\n",
              "      <td>0.850</td>\n",
              "    </tr>\n",
              "  </tbody>\n",
              "</table>\n",
              "</div>"
            ],
            "text/plain": [
              "                                    Model  Accuracy     AUC  Recall   Prec.  \\\n",
              "lr                    Logistic Regression    0.8921  0.7669  0.1964  0.6566   \n",
              "gbc          Gradient Boosting Classifier    0.8861  0.7668  0.2473  0.5367   \n",
              "rf               Random Forest Classifier    0.8938  0.7534  0.2545  0.6227   \n",
              "lightgbm  Light Gradient Boosting Machine    0.8925  0.7458  0.3055  0.5933   \n",
              "xgboost         Extreme Gradient Boosting    0.8878  0.7373  0.3055  0.5521   \n",
              "\n",
              "              F1   Kappa     MCC     KS    Gini  TT (Sec)  \n",
              "lr        0.3008  0.2600  0.3173  0.482  0.5338     0.720  \n",
              "gbc       0.3371  0.2845  0.3106  0.476  0.5336     0.784  \n",
              "rf        0.3602  0.3137  0.3517  0.444  0.5068     0.812  \n",
              "lightgbm  0.3994  0.3475  0.3723  0.418  0.4916     0.802  \n",
              "xgboost   0.3886  0.3331  0.3528  0.408  0.4745     0.850  "
            ]
          },
          "execution_count": 59,
          "metadata": {},
          "output_type": "execute_result"
        }
      ],
      "source": [
        "model_comp"
      ]
    },
    {
      "cell_type": "code",
      "execution_count": null,
      "id": "1b22ed48-2c3d-46e2-a2c5-11630a8ecc4e",
      "metadata": {
        "id": "1b22ed48-2c3d-46e2-a2c5-11630a8ecc4e",
        "outputId": "41523351-0282-47d7-ea93-ff48ee112a62"
      },
      "outputs": [
        {
          "data": {
            "text/plain": [
              "LogisticRegression(C=9.939, class_weight='balanced', dual=False,\n",
              "                   fit_intercept=True, intercept_scaling=1, l1_ratio=None,\n",
              "                   max_iter=1000, multi_class='auto', n_jobs=None, penalty='l2',\n",
              "                   random_state=12345, solver='lbfgs', tol=0.0001, verbose=0,\n",
              "                   warm_start=False)"
            ]
          },
          "execution_count": 60,
          "metadata": {},
          "output_type": "execute_result"
        }
      ],
      "source": [
        "tuned_mdl"
      ]
    },
    {
      "cell_type": "code",
      "execution_count": null,
      "id": "aa91594f-56ef-4838-a3eb-229e79987e45",
      "metadata": {
        "id": "aa91594f-56ef-4838-a3eb-229e79987e45",
        "outputId": "ef119d11-4258-4e74-a060-b4b325b65e7d"
      },
      "outputs": [
        {
          "data": {
            "text/html": [
              "<div>\n",
              "<style scoped>\n",
              "    .dataframe tbody tr th:only-of-type {\n",
              "        vertical-align: middle;\n",
              "    }\n",
              "\n",
              "    .dataframe tbody tr th {\n",
              "        vertical-align: top;\n",
              "    }\n",
              "\n",
              "    .dataframe thead th {\n",
              "        text-align: right;\n",
              "    }\n",
              "</style>\n",
              "<table border=\"1\" class=\"dataframe\">\n",
              "  <thead>\n",
              "    <tr style=\"text-align: right;\">\n",
              "      <th></th>\n",
              "      <th>Accuracy</th>\n",
              "      <th>AUC</th>\n",
              "      <th>Recall</th>\n",
              "      <th>Prec.</th>\n",
              "      <th>F1</th>\n",
              "      <th>Kappa</th>\n",
              "      <th>MCC</th>\n",
              "      <th>KS</th>\n",
              "      <th>Gini</th>\n",
              "    </tr>\n",
              "  </thead>\n",
              "  <tbody>\n",
              "    <tr>\n",
              "      <th>0</th>\n",
              "      <td>0.8069</td>\n",
              "      <td>0.7549</td>\n",
              "      <td>0.6182</td>\n",
              "      <td>0.3301</td>\n",
              "      <td>0.4304</td>\n",
              "      <td>0.3268</td>\n",
              "      <td>0.3501</td>\n",
              "      <td>0.4800</td>\n",
              "      <td>0.5098</td>\n",
              "    </tr>\n",
              "    <tr>\n",
              "      <th>1</th>\n",
              "      <td>0.7892</td>\n",
              "      <td>0.7460</td>\n",
              "      <td>0.6545</td>\n",
              "      <td>0.3130</td>\n",
              "      <td>0.4235</td>\n",
              "      <td>0.3137</td>\n",
              "      <td>0.3457</td>\n",
              "      <td>0.4700</td>\n",
              "      <td>0.4920</td>\n",
              "    </tr>\n",
              "    <tr>\n",
              "      <th>2</th>\n",
              "      <td>0.8344</td>\n",
              "      <td>0.8035</td>\n",
              "      <td>0.5818</td>\n",
              "      <td>0.3721</td>\n",
              "      <td>0.4539</td>\n",
              "      <td>0.3618</td>\n",
              "      <td>0.3744</td>\n",
              "      <td>0.4800</td>\n",
              "      <td>0.6070</td>\n",
              "    </tr>\n",
              "    <tr>\n",
              "      <th>3</th>\n",
              "      <td>0.7785</td>\n",
              "      <td>0.7692</td>\n",
              "      <td>0.6909</td>\n",
              "      <td>0.3065</td>\n",
              "      <td>0.4246</td>\n",
              "      <td>0.3118</td>\n",
              "      <td>0.3514</td>\n",
              "      <td>0.5100</td>\n",
              "      <td>0.5384</td>\n",
              "    </tr>\n",
              "    <tr>\n",
              "      <th>4</th>\n",
              "      <td>0.7763</td>\n",
              "      <td>0.7895</td>\n",
              "      <td>0.6545</td>\n",
              "      <td>0.2975</td>\n",
              "      <td>0.4091</td>\n",
              "      <td>0.2943</td>\n",
              "      <td>0.3292</td>\n",
              "      <td>0.4600</td>\n",
              "      <td>0.5790</td>\n",
              "    </tr>\n",
              "    <tr>\n",
              "      <th>Mean</th>\n",
              "      <td>0.7971</td>\n",
              "      <td>0.7726</td>\n",
              "      <td>0.6400</td>\n",
              "      <td>0.3238</td>\n",
              "      <td>0.4283</td>\n",
              "      <td>0.3217</td>\n",
              "      <td>0.3502</td>\n",
              "      <td>0.4800</td>\n",
              "      <td>0.5452</td>\n",
              "    </tr>\n",
              "    <tr>\n",
              "      <th>SD</th>\n",
              "      <td>0.0216</td>\n",
              "      <td>0.0213</td>\n",
              "      <td>0.0371</td>\n",
              "      <td>0.0264</td>\n",
              "      <td>0.0146</td>\n",
              "      <td>0.0226</td>\n",
              "      <td>0.0145</td>\n",
              "      <td>0.0167</td>\n",
              "      <td>0.0426</td>\n",
              "    </tr>\n",
              "  </tbody>\n",
              "</table>\n",
              "</div>"
            ],
            "text/plain": [
              "      Accuracy     AUC  Recall   Prec.      F1   Kappa     MCC      KS    Gini\n",
              "0       0.8069  0.7549  0.6182  0.3301  0.4304  0.3268  0.3501  0.4800  0.5098\n",
              "1       0.7892  0.7460  0.6545  0.3130  0.4235  0.3137  0.3457  0.4700  0.4920\n",
              "2       0.8344  0.8035  0.5818  0.3721  0.4539  0.3618  0.3744  0.4800  0.6070\n",
              "3       0.7785  0.7692  0.6909  0.3065  0.4246  0.3118  0.3514  0.5100  0.5384\n",
              "4       0.7763  0.7895  0.6545  0.2975  0.4091  0.2943  0.3292  0.4600  0.5790\n",
              "Mean    0.7971  0.7726  0.6400  0.3238  0.4283  0.3217  0.3502  0.4800  0.5452\n",
              "SD      0.0216  0.0213  0.0371  0.0264  0.0146  0.0226  0.0145  0.0167  0.0426"
            ]
          },
          "execution_count": 61,
          "metadata": {},
          "output_type": "execute_result"
        }
      ],
      "source": [
        "tunedmodl"
      ]
    },
    {
      "cell_type": "markdown",
      "id": "23e17db0-f0a1-4433-b30c-157b51d0680f",
      "metadata": {
        "id": "23e17db0-f0a1-4433-b30c-157b51d0680f"
      },
      "source": [
        "#### Graphical evaluation of models"
      ]
    },
    {
      "cell_type": "code",
      "execution_count": null,
      "id": "19936cd1-72e0-4924-8670-d16aa283c14f",
      "metadata": {
        "id": "19936cd1-72e0-4924-8670-d16aa283c14f",
        "outputId": "87c3cdec-ef38-40e7-da3b-b4afb086e168"
      },
      "outputs": [
        {
          "data": {
            "image/png": "[encoded data removed]",
            "text/plain": [
              "<Figure size 576x396 with 1 Axes>"
            ]
          },
          "metadata": {},
          "output_type": "display_data"
        }
      ],
      "source": [
        "plot_model(tuned_mdl, plot = 'auc',use_train_data = True)"
      ]
    },
    {
      "cell_type": "code",
      "execution_count": null,
      "id": "a454b45e-b4bd-4f94-affc-99c1146a066a",
      "metadata": {
        "id": "a454b45e-b4bd-4f94-affc-99c1146a066a",
        "outputId": "f95ef5c5-2fef-4db8-a27b-7f289c9a1804"
      },
      "outputs": [
        {
          "data": {
            "image/png": "[encoded data removed]",
            "text/plain": [
              "<Figure size 576x396 with 1 Axes>"
            ]
          },
          "metadata": {},
          "output_type": "display_data"
        }
      ],
      "source": [
        "plot_model(tuned_mdl, plot = 'auc',use_train_data = False)"
      ]
    },
    {
      "cell_type": "code",
      "execution_count": null,
      "id": "96f83edb-65b1-42ac-98a3-ecf39a18ae67",
      "metadata": {
        "id": "96f83edb-65b1-42ac-98a3-ecf39a18ae67",
        "outputId": "4e448be7-6307-4fa1-ad62-7a8934495772"
      },
      "outputs": [
        {
          "data": {
            "image/png": "[encoded data removed]",
            "text/plain": [
              "<Figure size 800x500 with 1 Axes>"
            ]
          },
          "metadata": {},
          "output_type": "display_data"
        }
      ],
      "source": [
        "plot_model(tuned_mdl, plot='feature')"
      ]
    },
    {
      "cell_type": "code",
      "execution_count": null,
      "id": "0fbe4627-0bce-4032-aea4-30b92ffa3a6a",
      "metadata": {
        "id": "0fbe4627-0bce-4032-aea4-30b92ffa3a6a",
        "outputId": "0e9c234c-d143-42e1-b17f-ffa1170e6eb7"
      },
      "outputs": [
        {
          "data": {
            "image/png": "[encoded data removed]",
            "text/plain": [
              "<Figure size 576x396 with 1 Axes>"
            ]
          },
          "metadata": {},
          "output_type": "display_data"
        }
      ],
      "source": [
        "plot_model(tuned_mdl, plot = 'pr')"
      ]
    },
    {
      "cell_type": "code",
      "execution_count": null,
      "id": "caa32323-de41-4af5-b30b-48b3b620b7ad",
      "metadata": {
        "id": "caa32323-de41-4af5-b30b-48b3b620b7ad",
        "outputId": "ab3af56e-2077-44b9-b4d2-c367a225cec7"
      },
      "outputs": [
        {
          "data": {
            "image/png": "[encoded data removed]",
            "text/plain": [
              "<Figure size 576x396 with 1 Axes>"
            ]
          },
          "metadata": {},
          "output_type": "display_data"
        }
      ],
      "source": [
        "plot_model(tuned_mdl, plot = 'confusion_matrix')"
      ]
    },
    {
      "cell_type": "code",
      "execution_count": null,
      "id": "f6db8d79-75e8-4271-a8ac-5d5a22130b3b",
      "metadata": {
        "id": "f6db8d79-75e8-4271-a8ac-5d5a22130b3b",
        "outputId": "75df7be7-afaf-4b8d-a40c-a1dee98f2e39",
        "colab": {
          "referenced_widgets": [
            "809bc64f7c2449c1b48b385bf779d6fa"
          ]
        }
      },
      "outputs": [
        {
          "data": {
            "application/vnd.jupyter.widget-view+json": {
              "model_id": "809bc64f7c2449c1b48b385bf779d6fa",
              "version_major": 2,
              "version_minor": 0
            },
            "text/plain": [
              "interactive(children=(ToggleButtons(description='Plot Type:', icons=('',), options=(('Hyperparameters', 'param…"
            ]
          },
          "metadata": {},
          "output_type": "display_data"
        }
      ],
      "source": [
        "evaluate_model(tuned_mdl)"
      ]
    },
    {
      "cell_type": "markdown",
      "id": "ef14efba-8d57-4a82-8928-4e643e6542f4",
      "metadata": {
        "id": "ef14efba-8d57-4a82-8928-4e643e6542f4"
      },
      "source": [
        "#### Model Deployment"
      ]
    },
    {
      "cell_type": "code",
      "execution_count": null,
      "id": "d6393d13-948b-44e5-9e45-5c4e7262a7d0",
      "metadata": {
        "id": "d6393d13-948b-44e5-9e45-5c4e7262a7d0",
        "outputId": "71537e27-4241-4077-8569-894b70d0e815"
      },
      "outputs": [
        {
          "name": "stdout",
          "output_type": "stream",
          "text": [
            "Transformation Pipeline and Model Succesfully Saved\n",
            "Saving model package:  20210910-10:21:41-69ded36303daa2e02e51f5a49c64952a\n",
            "File CREDIT_SCORE_002.pkl uploaded to artifacts/20210910-10:21:41-69ded36303daa2e02e51f5a49c64952a/CREDIT_SCORE_002.pkl.\n"
          ]
        }
      ],
      "source": [
        "idProj = PoDDeployClassModels(tuned_mdl,modelname,train,model_comp,ConfigProj,tunedmodl,train_selvar,X_train)"
      ]
    },
    {
      "cell_type": "markdown",
      "id": "c3dae743-d5d7-453d-bbc8-d5d610c18d20",
      "metadata": {
        "id": "c3dae743-d5d7-453d-bbc8-d5d610c18d20"
      },
      "source": [
        "#### Verifying the Deployed Model (Per Batch)"
      ]
    },
    {
      "cell_type": "code",
      "execution_count": null,
      "id": "c01206da-6e84-4e36-adaa-7b632862431c",
      "metadata": {
        "id": "c01206da-6e84-4e36-adaa-7b632862431c",
        "outputId": "8e59714e-a7f2-4125-bfdb-f7da054d71c4"
      },
      "outputs": [
        {
          "name": "stdout",
          "output_type": "stream",
          "text": [
            "Transformation Pipeline and Model Successfully Loaded\n"
          ]
        }
      ],
      "source": [
        "model = load_model(modelname)"
      ]
    },
    {
      "cell_type": "code",
      "execution_count": null,
      "id": "67588521-d328-4b12-ac06-d8cd46283dc5",
      "metadata": {
        "id": "67588521-d328-4b12-ac06-d8cd46283dc5"
      },
      "outputs": [],
      "source": [
        "scored_train = predict_model(model, data=train,raw_score=True)"
      ]
    },
    {
      "cell_type": "code",
      "execution_count": null,
      "id": "c929418e-8bde-4329-a276-a99616880741",
      "metadata": {
        "id": "c929418e-8bde-4329-a276-a99616880741"
      },
      "outputs": [],
      "source": [
        "scored_test = predict_model(model, data=test,raw_score=True)"
      ]
    },
    {
      "cell_type": "code",
      "execution_count": null,
      "id": "1f73ffe9-f135-4406-b845-66e5b8909d10",
      "metadata": {
        "id": "1f73ffe9-f135-4406-b845-66e5b8909d10",
        "outputId": "af72ab47-cacd-40b8-8069-b7650ba318f4"
      },
      "outputs": [
        {
          "data": {
            "text/html": [
              "<div>\n",
              "<style scoped>\n",
              "    .dataframe tbody tr th:only-of-type {\n",
              "        vertical-align: middle;\n",
              "    }\n",
              "\n",
              "    .dataframe tbody tr th {\n",
              "        vertical-align: top;\n",
              "    }\n",
              "\n",
              "    .dataframe thead th {\n",
              "        text-align: right;\n",
              "    }\n",
              "</style>\n",
              "<table border=\"1\" class=\"dataframe\">\n",
              "  <thead>\n",
              "    <tr style=\"text-align: right;\">\n",
              "      <th></th>\n",
              "      <th>VAR_1</th>\n",
              "      <th>VAR_2</th>\n",
              "      <th>VAR_3</th>\n",
              "      <th>VAR_4</th>\n",
              "      <th>VAR_5</th>\n",
              "      <th>VAR_6</th>\n",
              "      <th>VAR_7</th>\n",
              "      <th>VAR_8</th>\n",
              "      <th>VAR_9</th>\n",
              "      <th>VAR_10</th>\n",
              "      <th>...</th>\n",
              "      <th>VAR_12</th>\n",
              "      <th>VAR_13</th>\n",
              "      <th>VAR_14</th>\n",
              "      <th>VAR_15</th>\n",
              "      <th>TARGET_60_6</th>\n",
              "      <th>PK_ID</th>\n",
              "      <th>PK_DATREF</th>\n",
              "      <th>Label</th>\n",
              "      <th>Score_0</th>\n",
              "      <th>Score_1</th>\n",
              "    </tr>\n",
              "  </thead>\n",
              "  <tbody>\n",
              "    <tr>\n",
              "      <th>0</th>\n",
              "      <td>303.88</td>\n",
              "      <td>1.000000</td>\n",
              "      <td>303.88</td>\n",
              "      <td>1.000000</td>\n",
              "      <td>1.000000</td>\n",
              "      <td>8</td>\n",
              "      <td>244.32</td>\n",
              "      <td>1.000000</td>\n",
              "      <td>1.000000</td>\n",
              "      <td>0</td>\n",
              "      <td>...</td>\n",
              "      <td>99998.0</td>\n",
              "      <td>3.0</td>\n",
              "      <td>0.666667</td>\n",
              "      <td>1.0</td>\n",
              "      <td>0</td>\n",
              "      <td>6833803</td>\n",
              "      <td>201911</td>\n",
              "      <td>0</td>\n",
              "      <td>0.7394</td>\n",
              "      <td>0.2606</td>\n",
              "    </tr>\n",
              "    <tr>\n",
              "      <th>1</th>\n",
              "      <td>54.00</td>\n",
              "      <td>1.000000</td>\n",
              "      <td>53.80</td>\n",
              "      <td>1.000000</td>\n",
              "      <td>1.000000</td>\n",
              "      <td>4</td>\n",
              "      <td>46.66</td>\n",
              "      <td>1.000000</td>\n",
              "      <td>1.000000</td>\n",
              "      <td>4</td>\n",
              "      <td>...</td>\n",
              "      <td>99998.0</td>\n",
              "      <td>3.0</td>\n",
              "      <td>0.666667</td>\n",
              "      <td>0.0</td>\n",
              "      <td>0</td>\n",
              "      <td>9932682</td>\n",
              "      <td>201908</td>\n",
              "      <td>0</td>\n",
              "      <td>0.7447</td>\n",
              "      <td>0.2553</td>\n",
              "    </tr>\n",
              "    <tr>\n",
              "      <th>2</th>\n",
              "      <td>190.22</td>\n",
              "      <td>0.333333</td>\n",
              "      <td>860.91</td>\n",
              "      <td>0.220952</td>\n",
              "      <td>0.250000</td>\n",
              "      <td>12</td>\n",
              "      <td>1500.95</td>\n",
              "      <td>0.220952</td>\n",
              "      <td>0.333333</td>\n",
              "      <td>0</td>\n",
              "      <td>...</td>\n",
              "      <td>99997.0</td>\n",
              "      <td>NaN</td>\n",
              "      <td>0.250000</td>\n",
              "      <td>2.0</td>\n",
              "      <td>1</td>\n",
              "      <td>4191107</td>\n",
              "      <td>201910</td>\n",
              "      <td>1</td>\n",
              "      <td>0.0177</td>\n",
              "      <td>0.9823</td>\n",
              "    </tr>\n",
              "    <tr>\n",
              "      <th>3</th>\n",
              "      <td>1014.82</td>\n",
              "      <td>1.000000</td>\n",
              "      <td>1014.82</td>\n",
              "      <td>1.000000</td>\n",
              "      <td>0.916667</td>\n",
              "      <td>12</td>\n",
              "      <td>3055.18</td>\n",
              "      <td>1.000000</td>\n",
              "      <td>1.000000</td>\n",
              "      <td>0</td>\n",
              "      <td>...</td>\n",
              "      <td>99998.0</td>\n",
              "      <td>9.0</td>\n",
              "      <td>0.916667</td>\n",
              "      <td>2.0</td>\n",
              "      <td>0</td>\n",
              "      <td>2196319</td>\n",
              "      <td>201906</td>\n",
              "      <td>0</td>\n",
              "      <td>0.5274</td>\n",
              "      <td>0.4726</td>\n",
              "    </tr>\n",
              "    <tr>\n",
              "      <th>4</th>\n",
              "      <td>34.64</td>\n",
              "      <td>1.000000</td>\n",
              "      <td>34.64</td>\n",
              "      <td>1.000000</td>\n",
              "      <td>0.833333</td>\n",
              "      <td>12</td>\n",
              "      <td>0.00</td>\n",
              "      <td>1.000000</td>\n",
              "      <td>1.000000</td>\n",
              "      <td>0</td>\n",
              "      <td>...</td>\n",
              "      <td>99999.0</td>\n",
              "      <td>NaN</td>\n",
              "      <td>0.833333</td>\n",
              "      <td>3.0</td>\n",
              "      <td>0</td>\n",
              "      <td>27335719</td>\n",
              "      <td>201901</td>\n",
              "      <td>0</td>\n",
              "      <td>0.6317</td>\n",
              "      <td>0.3683</td>\n",
              "    </tr>\n",
              "  </tbody>\n",
              "</table>\n",
              "<p>5 rows × 21 columns</p>\n",
              "</div>"
            ],
            "text/plain": [
              "     VAR_1     VAR_2    VAR_3     VAR_4     VAR_5  VAR_6    VAR_7     VAR_8  \\\n",
              "0   303.88  1.000000   303.88  1.000000  1.000000      8   244.32  1.000000   \n",
              "1    54.00  1.000000    53.80  1.000000  1.000000      4    46.66  1.000000   \n",
              "2   190.22  0.333333   860.91  0.220952  0.250000     12  1500.95  0.220952   \n",
              "3  1014.82  1.000000  1014.82  1.000000  0.916667     12  3055.18  1.000000   \n",
              "4    34.64  1.000000    34.64  1.000000  0.833333     12     0.00  1.000000   \n",
              "\n",
              "      VAR_9  VAR_10  ...   VAR_12  VAR_13    VAR_14  VAR_15  TARGET_60_6  \\\n",
              "0  1.000000       0  ...  99998.0     3.0  0.666667     1.0            0   \n",
              "1  1.000000       4  ...  99998.0     3.0  0.666667     0.0            0   \n",
              "2  0.333333       0  ...  99997.0     NaN  0.250000     2.0            1   \n",
              "3  1.000000       0  ...  99998.0     9.0  0.916667     2.0            0   \n",
              "4  1.000000       0  ...  99999.0     NaN  0.833333     3.0            0   \n",
              "\n",
              "      PK_ID  PK_DATREF  Label  Score_0  Score_1  \n",
              "0   6833803     201911      0   0.7394   0.2606  \n",
              "1   9932682     201908      0   0.7447   0.2553  \n",
              "2   4191107     201910      1   0.0177   0.9823  \n",
              "3   2196319     201906      0   0.5274   0.4726  \n",
              "4  27335719     201901      0   0.6317   0.3683  \n",
              "\n",
              "[5 rows x 21 columns]"
            ]
          },
          "execution_count": 72,
          "metadata": {},
          "output_type": "execute_result"
        }
      ],
      "source": [
        "scored_train.head()"
      ]
    },
    {
      "cell_type": "code",
      "execution_count": null,
      "id": "3bbc32f1-ef77-4b6b-b5e5-aa9c68c87160",
      "metadata": {
        "id": "3bbc32f1-ef77-4b6b-b5e5-aa9c68c87160",
        "outputId": "80da96bb-3bb7-4462-9612-040f1f95c8c7"
      },
      "outputs": [
        {
          "name": "stdout",
          "output_type": "stream",
          "text": [
            "Dataset rows:  3500\n",
            "Scoring dataset part :  1 / 2\n",
            "Estimated time :  0.02 minutes\n",
            "Scoring dataset part :  2 / 2\n",
            "Estimated time :  0.0 minutes\n"
          ]
        }
      ],
      "source": [
        "filescore = 'gs://pod-artifacts-poc-br-dev/artifacts/20210901-15:20:58-0d7e9ea1f36c096b930aa70dca7014f3/train_dataset.csv'\n",
        "Score_FULL = PoDScoringClassModelBatch(model=model,path_filescore=filescore,idlist=idlist,chunksize=2000)"
      ]
    },
    {
      "cell_type": "code",
      "execution_count": null,
      "id": "c48f7524-176b-4ff3-a164-17280cd58215",
      "metadata": {
        "id": "c48f7524-176b-4ff3-a164-17280cd58215",
        "outputId": "9a20931f-c1fd-4dad-bb82-0a7632ce0abb"
      },
      "outputs": [
        {
          "data": {
            "text/html": [
              "<div>\n",
              "<style scoped>\n",
              "    .dataframe tbody tr th:only-of-type {\n",
              "        vertical-align: middle;\n",
              "    }\n",
              "\n",
              "    .dataframe tbody tr th {\n",
              "        vertical-align: top;\n",
              "    }\n",
              "\n",
              "    .dataframe thead th {\n",
              "        text-align: right;\n",
              "    }\n",
              "</style>\n",
              "<table border=\"1\" class=\"dataframe\">\n",
              "  <thead>\n",
              "    <tr style=\"text-align: right;\">\n",
              "      <th></th>\n",
              "      <th>PK_ID</th>\n",
              "      <th>Score_0</th>\n",
              "      <th>Score_1</th>\n",
              "      <th>PK_DATVER</th>\n",
              "    </tr>\n",
              "  </thead>\n",
              "  <tbody>\n",
              "    <tr>\n",
              "      <th>0</th>\n",
              "      <td>33813008</td>\n",
              "      <td>0.0069</td>\n",
              "      <td>0.9931</td>\n",
              "      <td>20210901-15:21:39</td>\n",
              "    </tr>\n",
              "    <tr>\n",
              "      <th>1</th>\n",
              "      <td>17662710</td>\n",
              "      <td>0.9844</td>\n",
              "      <td>0.0156</td>\n",
              "      <td>20210901-15:21:39</td>\n",
              "    </tr>\n",
              "    <tr>\n",
              "      <th>2</th>\n",
              "      <td>8533245</td>\n",
              "      <td>0.5823</td>\n",
              "      <td>0.4177</td>\n",
              "      <td>20210901-15:21:39</td>\n",
              "    </tr>\n",
              "    <tr>\n",
              "      <th>3</th>\n",
              "      <td>28212144</td>\n",
              "      <td>0.7041</td>\n",
              "      <td>0.2959</td>\n",
              "      <td>20210901-15:21:39</td>\n",
              "    </tr>\n",
              "    <tr>\n",
              "      <th>4</th>\n",
              "      <td>32529824</td>\n",
              "      <td>0.4515</td>\n",
              "      <td>0.5485</td>\n",
              "      <td>20210901-15:21:39</td>\n",
              "    </tr>\n",
              "  </tbody>\n",
              "</table>\n",
              "</div>"
            ],
            "text/plain": [
              "      PK_ID  Score_0  Score_1          PK_DATVER\n",
              "0  33813008   0.0069   0.9931  20210901-15:21:39\n",
              "1  17662710   0.9844   0.0156  20210901-15:21:39\n",
              "2   8533245   0.5823   0.4177  20210901-15:21:39\n",
              "3  28212144   0.7041   0.2959  20210901-15:21:39\n",
              "4  32529824   0.4515   0.5485  20210901-15:21:39"
            ]
          },
          "execution_count": 45,
          "metadata": {},
          "output_type": "execute_result"
        }
      ],
      "source": [
        "Score_FULL.head()"
      ]
    },
    {
      "cell_type": "markdown",
      "id": "610d7c0a-6222-4dd6-bf92-67c1b0ae9a71",
      "metadata": {
        "id": "610d7c0a-6222-4dd6-bf92-67c1b0ae9a71"
      },
      "source": [
        "#### Calculating the KS (Kolmogorov-Smirnov) of the Model"
      ]
    },
    {
      "cell_type": "code",
      "execution_count": null,
      "id": "7b06662d-06ce-4a76-8868-77d8e8df9652",
      "metadata": {
        "id": "7b06662d-06ce-4a76-8868-77d8e8df9652",
        "outputId": "6aee9ee5-c340-43b0-fd8f-88c0f9a75878"
      },
      "outputs": [
        {
          "data": {
            "text/plain": [
              "0.51"
            ]
          },
          "execution_count": 73,
          "metadata": {},
          "output_type": "execute_result"
        }
      ],
      "source": [
        "ks_train = TuringCSKS(scored_train[targetname], scored_train['Score_1'])\n",
        "ks_train"
      ]
    },
    {
      "cell_type": "markdown",
      "id": "9cc27068-a79c-41d2-8051-9b38f49ae8a3",
      "metadata": {
        "id": "9cc27068-a79c-41d2-8051-9b38f49ae8a3"
      },
      "source": [
        "#### Calculating the KS of the Model per Batch"
      ]
    },
    {
      "cell_type": "code",
      "execution_count": null,
      "id": "88d57d94-c907-48af-9605-fc764272db98",
      "metadata": {
        "id": "88d57d94-c907-48af-9605-fc764272db98",
        "outputId": "c6e29c96-20b9-407f-c0d4-1108b0cacaf2"
      },
      "outputs": [
        {
          "name": "stdout",
          "output_type": "stream",
          "text": [
            "Ks value (201901):  0.56\n",
            "Ks value (201902):  0.61\n",
            "Ks value (201903):  0.54\n",
            "Ks value (201904):  0.51\n",
            "Ks value (201905):  0.63\n",
            "Ks value (201906):  0.47\n",
            "Ks value (202001):  0.6\n",
            "Ks value (201908):  0.5\n",
            "Ks value (201907):  0.49\n",
            "Ks value (201910):  0.54\n",
            "Ks value (201911):  0.48\n",
            "Ks value (201912):  0.54\n",
            "Ks value (201909):  0.62\n"
          ]
        }
      ],
      "source": [
        "ks_safra = TuringKsSafra(scored_train,'PK_DATREF','Score_1',targetname)"
      ]
    },
    {
      "cell_type": "markdown",
      "id": "9c1299ab-53ac-42a0-886c-11d0e5b0832e",
      "metadata": {
        "id": "9c1299ab-53ac-42a0-886c-11d0e5b0832e"
      },
      "source": [
        "#### Calculating the Gini Coefficient of the Model"
      ]
    },
    {
      "cell_type": "code",
      "execution_count": null,
      "id": "8e13afb4-0a79-44e5-b88e-7f8655f04dd1",
      "metadata": {
        "id": "8e13afb4-0a79-44e5-b88e-7f8655f04dd1",
        "outputId": "21a02e94-919e-4b00-cc62-33db9b6ebfdf"
      },
      "outputs": [
        {
          "data": {
            "text/plain": [
              "0.6086"
            ]
          },
          "execution_count": 75,
          "metadata": {},
          "output_type": "execute_result"
        }
      ],
      "source": [
        "gini = PoDClassGini(scored_train[targetname], scored_train['Score_1'])\n",
        "gini"
      ]
    },
    {
      "cell_type": "markdown",
      "source": [
        "Calculating the Gini Coefficient of the Model per Batch"
      ],
      "metadata": {
        "id": "K4fdk3ex9_6o"
      },
      "id": "K4fdk3ex9_6o"
    },
    {
      "cell_type": "code",
      "execution_count": null,
      "id": "8dc06da1-108d-4781-81bf-de7a7c3a0838",
      "metadata": {
        "id": "8dc06da1-108d-4781-81bf-de7a7c3a0838",
        "outputId": "a73e9390-6559-4cb2-acc9-70471f08dcd9"
      },
      "outputs": [
        {
          "name": "stdout",
          "output_type": "stream",
          "text": [
            "Gini:  201911  -->  0.527\n",
            "Gini:  201908  -->  0.5844\n",
            "Gini:  201910  -->  0.511\n",
            "Gini:  201906  -->  0.5606\n",
            "Gini:  201901  -->  0.6252\n",
            "Gini:  201902  -->  0.7398\n",
            "Gini:  201903  -->  0.5818\n",
            "Gini:  201912  -->  0.6262\n",
            "Gini:  201905  -->  0.672\n",
            "Gini:  202001  -->  0.6888\n",
            "Gini:  201907  -->  0.5442\n",
            "Gini:  201909  -->  0.6896\n",
            "Gini:  201904  -->  0.5226\n"
          ]
        }
      ],
      "source": [
        "gini_safra = []\n",
        "safra_vec = []\n",
        "for safra in scored_train.PK_DATREF.unique():\n",
        "    df = scored_train[(scored_train[\"PK_DATREF\"] == safra)]\n",
        "    gini = PoDClassGini(df[targetname], df['Score_1'])\n",
        "    print('Gini: ',safra, ' --> ',gini)\n",
        "    gini_safra.append(gini)\n",
        "    safra_vec.append(safra)\n"
      ]
    },
    {
      "cell_type": "code",
      "execution_count": null,
      "id": "cf904057-33c3-4401-9a0b-2f632a895312",
      "metadata": {
        "id": "cf904057-33c3-4401-9a0b-2f632a895312"
      },
      "outputs": [],
      "source": []
    }
  ],
  "metadata": {
    "kernelspec": {
      "display_name": "Python 3",
      "language": "python",
      "name": "python3"
    },
    "language_info": {
      "codemirror_mode": {
        "name": "ipython",
        "version": 3
      },
      "file_extension": ".py",
      "mimetype": "text/x-python",
      "name": "python",
      "nbconvert_exporter": "python",
      "pygments_lexer": "ipython3",
      "version": "3.8.10"
    },
    "colab": {
      "provenance": []
    }
  },
  "nbformat": 4,
  "nbformat_minor": 5
}